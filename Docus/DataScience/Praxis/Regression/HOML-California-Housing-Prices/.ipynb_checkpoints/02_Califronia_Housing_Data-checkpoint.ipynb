{
 "cells": [
  {
   "cell_type": "markdown",
   "metadata": {},
   "source": [
    "'''''\n",
    "{\n",
    "\"title\": \"California-Housing-Notebook-Data\",\n",
    "\"keywords\": \"Regression, Big-Picture, \",\n",
    "\"categories\": \"\",\n",
    "\"description\": \"Hier geht es um die individuelle Abarbeitung der Checkliste Data im Kontext der California-Housing Problematik\",\n",
    "\"level\": \"20\",\n",
    "\"pageID\": \"14112020-10-California-Housing-Data\"\n",
    "}\n",
    "'''''"
   ]
  },
  {
   "cell_type": "markdown",
   "metadata": {},
   "source": [
    "<center><h1>California Housing <br> Data-Checkliste</h1></center>\n",
    "\n",
    "![](imgs/2020-11-14-21-31-19.png)\n",
    "\n",
    "In diesem Notebook wird die [Data-Checkliste](15112020-DataChecklist) im Kontext des California-Housing Problem abgeabreitet. \n"
   ]
  },
  {
   "cell_type": "markdown",
   "metadata": {},
   "source": [
    "1. [Auflistung der benötigten Daten](07112020200718-ListNeededData)\n",
    "2. [Dokumentiere DatenQuellen](07112020200718-ListNeededData)\n",
    "3. [Prüfe Speicherbedarf](07112020200718-CheckDataSpace)\n",
    "4. [Prüfe Legal Obligations](07112020200718-LegalObligations)\n",
    "5. [Erhalte Zugriff](07112020200718-GetAccess)\n",
    "6. [Erstelle Workspace](07112020200718-CreateWorkspace)\n",
    "7. [Tatsächliche Datenbeschaffung](07112020200718-GetDownloadData)\n",
    "8. [Convert Data](07112020200718-ConvertData)\n",
    "9. [Sensible Daten](07112020200718-SensibleData)\n",
    "10. [Prüfe Größe und Typ des Datensatzes](07112020200718-CheckSizeAndType)\n",
    "11. [Train Validation Test Split](07112020200718-TrainTestValidation)\n",
    "\n"
   ]
  },
  {
   "cell_type": "markdown",
   "metadata": {},
   "source": [
    "Hier das [Notebook](15112020-PythonSolutionsDataDownload), welches Downloadoptionen listet"
   ]
  },
  {
   "cell_type": "code",
   "execution_count": 1,
   "metadata": {},
   "outputs": [],
   "source": [
    "import os\n",
    "import tarfile\n",
    "from six.moves import urllib\n",
    "\n",
    "DOWNLOAD_ROOT = \"https://raw.githubusercontent.com/ageron/handson-ml/master/\"\n",
    "HOUSING_PATH = os.path.join(\"datasets\", \"housing\")\n",
    "HOUSING_URL = DOWNLOAD_ROOT + \"datasets/housing/housing.tgz\"\n",
    "\n",
    "def fetch_housing_data(housing_url=HOUSING_URL, housing_path=HOUSING_PATH):\n",
    "    os.makedirs(housing_path, exist_ok=True)\n",
    "    tgz_path = os.path.join(housing_path, \"housing.tgz\")\n",
    "    urllib.request.urlretrieve(housing_url, tgz_path)\n",
    "    housing_tgz = tarfile.open(tgz_path)\n",
    "    housing_tgz.extractall(path=housing_path)\n",
    "    housing_tgz.close()"
   ]
  },
  {
   "cell_type": "code",
   "execution_count": 2,
   "metadata": {},
   "outputs": [
    {
     "name": "stdout",
     "output_type": "stream",
     "text": [
      "11\n"
     ]
    }
   ],
   "source": [
    "\n"
   ]
  },
  {
   "cell_type": "markdown",
   "metadata": {},
   "source": [
    "und nochmals etwas Text"
   ]
  },
  {
   "cell_type": "code",
   "execution_count": null,
   "metadata": {},
   "outputs": [],
   "source": []
  }
 ],
 "metadata": {
  "kernelspec": {
   "display_name": "Python 3",
   "language": "python",
   "name": "python3"
  },
  "language_info": {
   "codemirror_mode": {
    "name": "ipython",
    "version": 3
   },
   "file_extension": ".py",
   "mimetype": "text/x-python",
   "name": "python",
   "nbconvert_exporter": "python",
   "pygments_lexer": "ipython3",
   "version": "3.8.3"
  }
 },
 "nbformat": 4,
 "nbformat_minor": 4
}
