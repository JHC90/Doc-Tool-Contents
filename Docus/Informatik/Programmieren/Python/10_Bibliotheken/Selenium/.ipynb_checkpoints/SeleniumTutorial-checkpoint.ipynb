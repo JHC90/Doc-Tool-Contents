{
 "cells": [
  {
   "cell_type": "markdown",
   "metadata": {},
   "source": [
    "# Video 1\n",
    "- Erklärung warum Selenium gut ist\n",
    "- Erklärung Basic-Installation \n",
    "    - Installation Bibliothek Selenium\n",
    "    - Einbinden der Executable (Chromedriver, geko, etc) in dem OS"
   ]
  },
  {
   "cell_type": "code",
   "execution_count": null,
   "metadata": {},
   "outputs": [],
   "source": [
    "from IPython.display import YouTubeVideo\n",
    "\n",
    "YouTubeVideo('u1T2v2Ucuuc', width=800, height=300)"
   ]
  },
  {
   "cell_type": "markdown",
   "metadata": {},
   "source": []
  },
  {
   "cell_type": "code",
   "execution_count": null,
   "metadata": {},
   "outputs": [],
   "source": [
    "#!pip install selenium"
   ]
  },
  {
   "cell_type": "markdown",
   "metadata": {},
   "source": [
    "# Video 2\n",
    "erste Bsp:\n",
    "\n",
    "hier wird das \"Googeln\" automatisiert"
   ]
  },
  {
   "cell_type": "code",
   "execution_count": null,
   "metadata": {},
   "outputs": [],
   "source": [
    "from IPython.display import YouTubeVideo\n",
    "\n",
    "YouTubeVideo('X_oTF5aSGcA', width=800, height=300)"
   ]
  },
  {
   "cell_type": "code",
   "execution_count": null,
   "metadata": {},
   "outputs": [],
   "source": [
    "from selenium import webdriver"
   ]
  },
  {
   "cell_type": "code",
   "execution_count": null,
   "metadata": {},
   "outputs": [],
   "source": [
    "# erstellt ein Browser in Viruteller Einheit\n",
    "driver = webdriver.Chrome('C:/Webdriver/chromedriver.exe')\n"
   ]
  },
  {
   "cell_type": "code",
   "execution_count": null,
   "metadata": {},
   "outputs": [],
   "source": [
    "driverFF = webdriver.Firefox()"
   ]
  },
  {
   "cell_type": "code",
   "execution_count": null,
   "metadata": {},
   "outputs": [],
   "source": [
    "# URL-Call in dem oberen Driver\n",
    "driver.get('https://www.tz.de')gec"
   ]
  },
  {
   "cell_type": "code",
   "execution_count": null,
   "metadata": {},
   "outputs": [],
   "source": [
    "# Automatisch googlen\n",
    "driver.get('https://www.google.de')\n",
    "# Suche des jeweiligen Elements (Rechtsklick untersuchen)\n",
    "search_field = driver.find_element_by_name('q')\n",
    "search_field.send_keys('Silvia Ruidisch')\n",
    "search_field.submit()\n",
    "driver.quit()"
   ]
  },
  {
   "cell_type": "markdown",
   "metadata": {},
   "source": [
    "# Video 3\n",
    "Selenium kann gut für [Unittests](https://github.com/JHC90/PrivatePythonCheats/blob/master/Basics/11_Modul_tests.ipynb) verwendet werden. Das Resultat checkt man dann in der Rückgabe gegen. Wichtig ist hier das Python Modul [unittest](https://docs.python.org/3/library/unittest.html)"
   ]
  },
  {
   "cell_type": "code",
   "execution_count": null,
   "metadata": {},
   "outputs": [],
   "source": [
    "from IPython.display import YouTubeVideo\n",
    "\n",
    "YouTubeVideo('bfk6mmYkOWI', width=800, height=300)"
   ]
  },
  {
   "cell_type": "code",
   "execution_count": null,
   "metadata": {},
   "outputs": [],
   "source": [
    "from selenium import webdriver\n",
    "import unittest"
   ]
  },
  {
   "cell_type": "code",
   "execution_count": null,
   "metadata": {},
   "outputs": [],
   "source": [
    "class GoogleTest(unittest.TestCase):\n",
    "    def setUp(self):\n",
    "        self.driver = webdriver.Chrome('C:/Webdriver/chromedriver.exe')\n",
    "        \n",
    "    def test_google_search(self):\n",
    "        self.driver.get('https://www.google.de')\n",
    "        self.assertIn(\"Google\", self.driver.title)\n",
    "        search_field = self.driver.find_element_by_name('q')\n",
    "        search_field.send_keys('Silvia Ruidisch')\n",
    "        search_field.submit()\n",
    "        assert \"Es wurde keine mit deiner Suchanfrage - \" not in self.driver.page_source\n",
    "        \n",
    "    def tearDown(self):\n",
    "        self.driver.close()\n",
    "        \n",
    "if __name__ == \"__main__\":\n",
    "    unittest.main() # alles was von Unittest erbt wird hier ausgeführt"
   ]
  },
  {
   "cell_type": "markdown",
   "metadata": {},
   "source": [
    "# Video 4\n",
    "Interkaktion mit Elementen auf einer Seite, dazu müssen diese zunächst heruasgefiltert werden und dann genutzt werden\n",
    "\n",
    "find by:\n",
    "- by_name\n",
    "- by_id // Das wäre das beste\n",
    "- by_class_name\n",
    "- by tag_name // wenn mögich das nicht nehmen\n",
    "\n",
    "Auf anderen Seite ist es Vergleichbar wie ein Reverse Engineering Projekt.\n"
   ]
  },
  {
   "cell_type": "code",
   "execution_count": null,
   "metadata": {},
   "outputs": [],
   "source": [
    "from selenium import webdriver\n",
    "import time"
   ]
  },
  {
   "cell_type": "code",
   "execution_count": null,
   "metadata": {},
   "outputs": [],
   "source": [
    "# erstellt ein Browser in Viruteller Einheit\n",
    "driver = webdriver.Chrome('C:/Webdriver/chromedriver.exe')\n",
    "# URL-Call in dem oberen Driver\n",
    "driver.get('https://www.tz.de')"
   ]
  },
  {
   "cell_type": "code",
   "execution_count": null,
   "metadata": {},
   "outputs": [],
   "source": [
    "# Automatisch googlen\n",
    "driver.get('https://www.google.de/xhtml')\n",
    "# Suche Element via NAme\n",
    "search_field = driver.find_element_by_name('q')\n",
    "search_field.send_keys('google')\n",
    "search_field.submit()\n"
   ]
  },
  {
   "cell_type": "raw",
   "metadata": {},
   "source": [
    "# Suche Element via ID\n",
    "search_field = driver.find_element_by_id('lst-ib')\n",
    "search_field.send_keys('google')\n",
    "search_field.submit()"
   ]
  },
  {
   "cell_type": "code",
   "execution_count": null,
   "metadata": {},
   "outputs": [],
   "source": [
    "# Suche Element via classname # => nicht eindeutig\n",
    "from selenium import webdriver\n",
    "import time\n",
    "driver = webdriver.Chrome('C:/Webdriver/chromedriver.exe')\n",
    "driver.get('https://www.google.de/xhtml')\n",
    "search_field = driver.find_element_by_class('gLFyf gsfi')\n",
    "for i in search_field:\n",
    "    if i.tag_name == 'input':\n",
    "        i.send_keys('google')\n",
    "        i.submit()\n",
    "        break"
   ]
  },
  {
   "cell_type": "markdown",
   "metadata": {},
   "source": [
    "# Video 5\n",
    "Hier geht es um das senden von Key"
   ]
  },
  {
   "cell_type": "code",
   "execution_count": null,
   "metadata": {},
   "outputs": [],
   "source": [
    "from IPython.display import YouTubeVideo\n",
    "\n",
    "YouTubeVideo('2iX3fQiqUdA', width=800, height=300)"
   ]
  },
  {
   "cell_type": "code",
   "execution_count": null,
   "metadata": {},
   "outputs": [],
   "source": [
    "from selenium import webdriver\n",
    "import time\n",
    "from selenium.webdriver.common.keys import Keys"
   ]
  },
  {
   "cell_type": "code",
   "execution_count": null,
   "metadata": {},
   "outputs": [],
   "source": [
    "# erstellt ein Browser in Viruteller Einheit\n",
    "driver = webdriver.Chrome('C:/Webdriver/chromedriver.exe')\n",
    "# URL-Call in dem oberen Driver\n",
    "driver.get('https://www.google.de/xhtml')"
   ]
  },
  {
   "cell_type": "code",
   "execution_count": null,
   "metadata": {},
   "outputs": [],
   "source": [
    "search_field = driver.find_element_by_name('q')\n",
    "search_field.send_keys('Silvia Ruidisch', Keys.BACKSPACE, Keys.ARROW_LEFT,  Keys.BACKSPACE,  Keys.ENTER)"
   ]
  },
  {
   "cell_type": "code",
   "execution_count": null,
   "metadata": {},
   "outputs": [],
   "source": [
    "driver.close()"
   ]
  },
  {
   "cell_type": "markdown",
   "metadata": {},
   "source": [
    "# Video 6\n",
    "Hier geht es um die browser history, sprich vorwärts und Rückwärs schalten."
   ]
  },
  {
   "cell_type": "code",
   "execution_count": null,
   "metadata": {},
   "outputs": [],
   "source": [
    "from IPython.display import YouTubeVideo\n",
    "\n",
    "YouTubeVideo('wJsUvQAjUFs', width=800, height=300)"
   ]
  },
  {
   "cell_type": "code",
   "execution_count": null,
   "metadata": {},
   "outputs": [],
   "source": [
    "from selenium import webdriver"
   ]
  },
  {
   "cell_type": "code",
   "execution_count": null,
   "metadata": {},
   "outputs": [],
   "source": [
    "driver = webdriver.Chrome('C:/Webdriver/chromedriver.exe')"
   ]
  },
  {
   "cell_type": "code",
   "execution_count": null,
   "metadata": {},
   "outputs": [],
   "source": [
    "driver.get('https://www.tz.de')\n",
    "driver.get('https://www.google.de')\n",
    "driver.get('https://www.sueddeutsche.de')\n",
    "driver.get('https://www.aldi.de')\n",
    "driver.back()\n",
    "driver.back()\n",
    "driver.forward()"
   ]
  },
  {
   "cell_type": "markdown",
   "metadata": {},
   "source": [
    "# Video 7\n",
    "Hier geht es um die browser Cookies. Vorallem bei Login-Sessions wichtig."
   ]
  },
  {
   "cell_type": "code",
   "execution_count": null,
   "metadata": {},
   "outputs": [],
   "source": [
    "from IPython.display import YouTubeVideo\n",
    "\n",
    "YouTubeVideo('nK6CMrNTWqY', width=800, height=300)"
   ]
  },
  {
   "cell_type": "code",
   "execution_count": null,
   "metadata": {},
   "outputs": [],
   "source": [
    "from selenium import webdriver\n",
    "driver = webdriver.Chrome('C:/Webdriver/chromedriver.exe')\n",
    "driver.get('https://www.tz.de')"
   ]
  },
  {
   "cell_type": "code",
   "execution_count": null,
   "metadata": {},
   "outputs": [],
   "source": [
    "cookie = {'name':'token', 'value':'456123'}\n",
    "driver.add_cookie(cookie)\n",
    "driver.get('https://www.tz.de')"
   ]
  },
  {
   "cell_type": "code",
   "execution_count": null,
   "metadata": {},
   "outputs": [],
   "source": [
    "# Auslesen derCookies\n",
    "print(driver.get_cookie('token'))"
   ]
  },
  {
   "cell_type": "code",
   "execution_count": null,
   "metadata": {},
   "outputs": [],
   "source": [
    "print(driver.get_cookies())"
   ]
  },
  {
   "cell_type": "markdown",
   "metadata": {},
   "source": [
    "# Video 8\n",
    "XPath, teil von XML. MIT XPATH kann man einzelne Elemente auslesen. Dazu hat man merer optionen\n",
    "1. Absoluter Pfad\n",
    "2. //\n",
    "3. // Feld mit ID"
   ]
  },
  {
   "cell_type": "code",
   "execution_count": null,
   "metadata": {},
   "outputs": [],
   "source": [
    "from IPython.display import YouTubeVideo\n",
    "\n",
    "YouTubeVideo('ScByEODsLiw', width=800, height=300)"
   ]
  },
  {
   "cell_type": "code",
   "execution_count": null,
   "metadata": {},
   "outputs": [],
   "source": [
    "from selenium import webdriver\n",
    "driver = webdriver.Chrome('C:/Webdriver/chromedriver.exe')\n",
    "driver.get('https://www.google.de/xhtml')"
   ]
  },
  {
   "cell_type": "code",
   "execution_count": null,
   "metadata": {},
   "outputs": [],
   "source": [
    "# Option2\n",
    "search_field = driver.find_element_by_xpath(\"//input[2]\")"
   ]
  },
  {
   "cell_type": "code",
   "execution_count": null,
   "metadata": {},
   "outputs": [],
   "source": [
    "# Option3\n",
    "search_field = driver.find_element_by_xpath(\"//input[@name='q']\")\n",
    "search_field.send_keys('Silvia Ruidisch')"
   ]
  },
  {
   "cell_type": "code",
   "execution_count": null,
   "metadata": {},
   "outputs": [],
   "source": [
    "driver.close()"
   ]
  },
  {
   "cell_type": "markdown",
   "metadata": {},
   "source": [
    "# Video 9\n",
    "Wie lange braucht ein Element bis es geladen ist."
   ]
  },
  {
   "cell_type": "code",
   "execution_count": null,
   "metadata": {},
   "outputs": [],
   "source": [
    "from IPython.display import YouTubeVideo\n",
    "\n",
    "YouTubeVideo('A1XWkGMeso4', width=800, height=300)"
   ]
  },
  {
   "cell_type": "code",
   "execution_count": null,
   "metadata": {},
   "outputs": [],
   "source": [
    "from selenium import webdriver\n",
    "from selenium.webdriver.support.ui import WebDriverWait\n",
    "from selenium.webdriver.support import expected_conditions as ExpectedCondtion\n",
    "from selenium.webdriver.common.by import By\n",
    "import time\n",
    "\n",
    "driver = webdriver.Chrome('C:/Webdriver/chromedriver.exe')\n",
    "driver.get('https://www.google.de/xhtml')"
   ]
  },
  {
   "cell_type": "code",
   "execution_count": null,
   "metadata": {},
   "outputs": [],
   "source": [
    "try:\n",
    "    element = WebDriverWait(driver, 5).until(\n",
    "    ExpectedCondtion.presence_of_all_elements_located((By.NAME, 'q'))\n",
    "        \n",
    "    ) # Prüfung ob das Element da ist, wartet solange bis das Element da ist\n",
    "    print(\"yes, element wurde gefunden\")\n",
    "except:\n",
    "    pass\n",
    "time.sleep(5)"
   ]
  },
  {
   "cell_type": "markdown",
   "metadata": {},
   "source": [
    "# Video11\n",
    "ActionChains, können nur auf einer seite ausgeführt werden und nicht auf folge-Seiten. Mit ActionChains können aber mehrere Aktionen auf einer Seite durchgeführt werden."
   ]
  },
  {
   "cell_type": "code",
   "execution_count": null,
   "metadata": {},
   "outputs": [],
   "source": [
    "from IPython.display import YouTubeVideo\n",
    "\n",
    "YouTubeVideo('BsWrl_AT_jQ', width=800, height=300)"
   ]
  },
  {
   "cell_type": "code",
   "execution_count": null,
   "metadata": {},
   "outputs": [],
   "source": [
    "from selenium import webdriver\n",
    "from selenium.webdriver import ActionChains\n"
   ]
  },
  {
   "cell_type": "code",
   "execution_count": null,
   "metadata": {},
   "outputs": [],
   "source": [
    "driver = webdriver.Chrome('C:/Webdriver/chromedriver.exe')\n",
    "driver.get('https://www.google.de/xhtml')"
   ]
  },
  {
   "cell_type": "markdown",
   "metadata": {},
   "source": [
    "# Video12\n",
    "ActionChains, können nur auf einer seite ausgeführt werden und nicht auf folge-Seiten. Mit ActionChains können aber mehrere Aktionen auf einer Seite durchgeführt werden."
   ]
  },
  {
   "cell_type": "markdown",
   "metadata": {},
   "source": [
    "# Neue Quelle\n",
    "\n",
    "Hier geht es darum nicht den lokalen Webbrwoser zu nutzen sondern mit einem Selenium Hub unterschiedliche Webbrowser zu nutzen. Für das erstellen eines Selnium hubs im Kontext einer Dockerized Environment folge diesem Tutorial\n",
    "\n",
    "\n",
    "DOCKER-Selenium\n",
    "pip install selenium\n",
    "\n",
    "\n",
    "Tut1\n",
    "https://robotninja.com/blog/introduction-using-selenium-docker-containers-end-end-testing/\n",
    "\n",
    "TUT2\n",
    "\n",
    "https://www.softwaretestinghelp.com/docker-selenium-tutorial/\n",
    "docker pull selenium/hub\n",
    "docker pull selenium/node-firefox\n",
    "docker pull selenium/node-firefox-debug\n",
    "docker pull selenium/node-chrome\n",
    "docker pull selenium/node-chrome-debug\n",
    "\n",
    "\n",
    "docker run -d -p 4444:4444 –-name selenium-hub selenium/hub\n",
    "docker run -d -–link -P selenium-hub:hub --name node-chrome selenium/node-chrome\n",
    "\n",
    "docker run -d -P --link selenium-hub:hub --name node-chrome-debug selenium/node-chrome-debug\n",
    "docker rm -f node-chrome-debug\n",
    "\n",
    "docker run -d –-link selenium-hub:hub --name node-firefox selenium/node-firefox\n",
    "docker run -d -P –-link selenium-hub:hub --name node-firefox-debug selenium/node-firefox-debug\n",
    "\n",
    "http://127.0.0.1:4444/grid/console\n",
    "\n",
    "mit vnc via IP + port(kommt aus docker ps -a)\n",
    "\n",
    "\n",
    "\n",
    "\n",
    "\n",
    "\n",
    "**VerifiedDockerized Firefox öffnen mit gui**\n",
    "> docker run -d --name=firefox -p 5800:5800 -v C:\\Docker:/config:rw -e DISPLAY=192.168.178.36:0.0 --security-opt seccomp=C:\\Users\\1810837475\\Downloads\\seccomp.json --shm-size 2g jlesage/firefox\n",
    "\n",
    "mit XLAUNCH\n",
    "\n",
    "\n",
    "docker container rm -f firefox"
   ]
  },
  {
   "cell_type": "code",
   "execution_count": null,
   "metadata": {},
   "outputs": [],
   "source": [
    "#!pip install selenium\n",
    "import selenium"
   ]
  },
  {
   "cell_type": "code",
   "execution_count": 1,
   "metadata": {},
   "outputs": [],
   "source": [
    "from selenium import webdriver\n",
    "from selenium.webdriver.common.desired_capabilities import DesiredCapabilities"
   ]
  },
  {
   "cell_type": "code",
   "execution_count": 20,
   "metadata": {},
   "outputs": [],
   "source": [
    "driver = webdriver.Remote(\n",
    "   command_executor='http://127.0.0.1:4444/wd/hub',\n",
    "   desired_capabilities=DesiredCapabilities.CHROME)\n"
   ]
  },
  {
   "cell_type": "code",
   "execution_count": 21,
   "metadata": {},
   "outputs": [],
   "source": [
    "#desired_capabilities=DesiredCapabilities.CHROME)\n",
    "#desired_capabilities=DesiredCapabilities.FIREFOX)\n",
    "# Opera nein"
   ]
  },
  {
   "cell_type": "code",
   "execution_count": 22,
   "metadata": {},
   "outputs": [],
   "source": [
    "driver.get(\"http://www.google.de\")"
   ]
  },
  {
   "cell_type": "code",
   "execution_count": 23,
   "metadata": {},
   "outputs": [],
   "source": [
    "driver.get(\"http://www.whatsapp.de\")"
   ]
  },
  {
   "cell_type": "code",
   "execution_count": 24,
   "metadata": {},
   "outputs": [],
   "source": [
    "driver.get(\"https://www.netflix.com/de/\")"
   ]
  },
  {
   "cell_type": "code",
   "execution_count": 25,
   "metadata": {},
   "outputs": [],
   "source": [
    "driver.close()"
   ]
  },
  {
   "cell_type": "code",
   "execution_count": null,
   "metadata": {},
   "outputs": [],
   "source": []
  },
  {
   "cell_type": "code",
   "execution_count": null,
   "metadata": {},
   "outputs": [],
   "source": []
  }
 ],
 "metadata": {
  "kernelspec": {
   "display_name": "Python 3",
   "language": "python",
   "name": "python3"
  },
  "language_info": {
   "codemirror_mode": {
    "name": "ipython",
    "version": 3
   },
   "file_extension": ".py",
   "mimetype": "text/x-python",
   "name": "python",
   "nbconvert_exporter": "python",
   "pygments_lexer": "ipython3",
   "version": "3.8.3"
  },
  "latex_envs": {
   "LaTeX_envs_menu_present": true,
   "autoclose": false,
   "autocomplete": true,
   "bibliofile": "biblio.bib",
   "cite_by": "apalike",
   "current_citInitial": 1,
   "eqLabelWithNumbers": true,
   "eqNumInitial": 1,
   "hotkeys": {
    "equation": "Ctrl-E",
    "itemize": "Ctrl-I"
   },
   "labels_anchors": false,
   "latex_user_defs": false,
   "report_style_numbering": false,
   "user_envs_cfg": false
  },
  "toc": {
   "base_numbering": 1,
   "nav_menu": {},
   "number_sections": true,
   "sideBar": true,
   "skip_h1_title": false,
   "title_cell": "Table of Contents",
   "title_sidebar": "Contents",
   "toc_cell": false,
   "toc_position": {
    "height": "calc(100% - 180px)",
    "left": "10px",
    "top": "150px",
    "width": "165px"
   },
   "toc_section_display": true,
   "toc_window_display": true
  }
 },
 "nbformat": 4,
 "nbformat_minor": 4
}
