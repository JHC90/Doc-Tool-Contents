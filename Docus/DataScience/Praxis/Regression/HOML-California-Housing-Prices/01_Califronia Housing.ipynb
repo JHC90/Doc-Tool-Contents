{
 "metadata": {
  "language_info": {
   "codemirror_mode": {
    "name": "ipython",
    "version": 3
   },
   "file_extension": ".py",
   "mimetype": "text/x-python",
   "name": "python",
   "nbconvert_exporter": "python",
   "pygments_lexer": "ipython3",
   "version": "3.8.3-final"
  },
  "orig_nbformat": 2,
  "kernelspec": {
   "name": "python3",
   "display_name": "Python 3"
  }
 },
 "nbformat": 4,
 "nbformat_minor": 2,
 "cells": [
  {
   "source": [
    "'''''\n",
    "{\n",
    "\"title\": \"1_California-Housing-Notebook\",\n",
    "\"keywords\": \"Regression, Big-Picture \",\n",
    "\"categories\": \"\",\n",
    "\"description\": \"Hier geht es um die individuelle Abarbeitung der Checkliste Big-Picture im Kontext der California-Housing Problematik\",\n",
    "\"level\": \"10\",\n",
    "\"pageID\": \"14112020-10-California-Housing\"\n",
    "}\n",
    "'''''"
   ],
   "cell_type": "markdown",
   "metadata": {}
  },
  {
   "source": [
    "# California-Hosuing-Challenge\n",
    "In diesem Notebook werden die ersten Problemstellungen von der California Hosuing Challenge aus dem Buch Handson Machine Learning bearbeitet. Dazu wird folgende erste  [Checkliste](14112020-SectionIndex-BigPicture) verwendet."
   ],
   "cell_type": "markdown",
   "metadata": {}
  },
  {
   "source": [],
   "cell_type": "markdown",
   "metadata": {}
  },
  {
   "source": [
    "1. [Business-Objectives](07112020200718-BusinessObjectives)"
   ],
   "cell_type": "markdown",
   "metadata": {}
  },
  {
   "cell_type": "code",
   "execution_count": null,
   "metadata": {},
   "outputs": [],
   "source": []
  },
  {
   "cell_type": "code",
   "execution_count": null,
   "metadata": {},
   "outputs": [],
   "source": []
  },
  {
   "cell_type": "code",
   "execution_count": null,
   "metadata": {},
   "outputs": [],
   "source": []
  },
  {
   "cell_type": "code",
   "execution_count": null,
   "metadata": {},
   "outputs": [],
   "source": []
  }
 ]
}