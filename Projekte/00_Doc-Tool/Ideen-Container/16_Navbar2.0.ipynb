{
 "metadata": {
  "language_info": {
   "codemirror_mode": {
    "name": "ipython",
    "version": 3
   },
   "file_extension": ".py",
   "mimetype": "text/x-python",
   "name": "python",
   "nbconvert_exporter": "python",
   "pygments_lexer": "ipython3",
   "version": "3.8.3-final"
  },
  "orig_nbformat": 2,
  "kernelspec": {
   "name": "python3",
   "display_name": "Python 3"
  }
 },
 "nbformat": 4,
 "nbformat_minor": 2,
 "cells": [
  {
   "source": [
    "'''''\n",
    "{\n",
    "\"title\": \"16_Navbar2.\",\n",
    "\"keywords\": \",navBar2.0\",\n",
    "\"categories\": \"\",\n",
    "\"description\": \"Dieses Notebook liefert die Grunlagen für die Nav-Bar 2.0. Die Navbar 2.0 integirert die hierarchie stufen kommend von dem local Metadatainfo File \",\n",
    "\"level\": \"120\",\n",
    "\"pageID\": \"07112020200718-16-NavBar2\"\n",
    "}\n",
    "'''''"
   ],
   "cell_type": "markdown",
   "metadata": {}
  },
  {
   "source": [
    "<h1>Erstellen der Nav-bar 2.0 </h1>\n",
    "\n",
    "Dev-ID: 16_Navbar2\n",
    "\n",
    "# Status der Idee\n",
    "\n",
    "- [x]  Die Idee exisitiert & Die Ideenentwicklung wurde gestartet\n",
    "- [x]  Branch erstellt\n",
    "- [x]  Kopie von FunctionContainer in IdeenBereich\n",
    "- [ ]  implementierung der Idee\n",
    "- [ ]  Merge back to master\n",
    "- [ ]  Push Doc-Tool to remote master mit dem commit-Namen \"01-DocTools-JPYNB-HTML-Converter\"\n",
    "- [ ]  Lösche den lokalen Branch \n",
    "- [ ]  Ideenimplementierung abgeschlossen\n",
    "- [ ]  Kopie von FunctionContainer zurück in DocToolMaintainingScript\n",
    "\n",
    "# Ziel \n",
    "Mit diesem Skript soll nun die Navbar die Informationen von dem Metadata File einlesen und verwenden.\n",
    "Konkret sollen die Informationen:\n",
    "\n",
    "- [ ] TabIndex,\n",
    "- [ ] ListPage\n",
    "\n",
    "\n"
   ],
   "cell_type": "markdown",
   "metadata": {}
  },
  {
   "source": [
    "# Entwicklung"
   ],
   "cell_type": "markdown",
   "metadata": {}
  },
  {
   "cell_type": "code",
   "execution_count": null,
   "metadata": {},
   "outputs": [],
   "source": [
    "from glob import glob\n",
    "import os\n",
    "import time\n",
    "from bs4 import BeautifulSoup as bs\n",
    "import sys\n",
    "import functionContainer as fc\n",
    "import pandas as pd"
   ]
  },
  {
   "cell_type": "code",
   "execution_count": null,
   "metadata": {},
   "outputs": [],
   "source": [
    "dir_path = \"C:/DocTool/\"\n",
    "os.chdir(dir_path)\n",
    "debug = True\n",
    "\n",
    "if(debug == True):\n",
    "    fc.printDebugErrorPart(\"Hammerfest\", \"Skript startet\")\n",
    "\n",
    "\n",
    "listOfDirs=glob(\"./content/*/\")\n",
    "print(listOfDirs)\n",
    "\n",
    "if(debug == True):\n",
    "    message = \"Zunäcsht haben wir insgesammt \"+ str(len(listOfDirs)) +\" BASE-DIRECTORIES welche in die ERSTE(!!!!) Ebene UNGEFILTERT(!!!) der Navbar aufgenommen werden müssen\"\n",
    "    fc.printDebugErrorPart(\"Oslo\", message)\n",
    "\n",
    "\n",
    "# Finalbaselist = Welche reiter als erste dropdowns angezeigt werden BSPW: \"docus\", \"Projekte\" usw\n",
    "# Konkret werden die ersten Subfolder angezeigt\n",
    "finalBaseList = []\n",
    "for i in range(0,len(listOfDirs),1):\n",
    "    listOfDirs[i] = listOfDirs[i].replace(\"\\\\\",\"/\")\n",
    "    if(\"imgs\" in listOfDirs[i]):\n",
    "        continue\n",
    "    elif(\"datasets\" in listOfDirs[i]):\n",
    "        continue\n",
    "    elif(\"images\" in listOfDirs[i]):\n",
    "        continue\n",
    "    elif(\"images\" in listOfDirs[i]):\n",
    "        continue\n",
    "    else:\n",
    "        name = listOfDirs[i].split(\"/\")[-2]\n",
    "        finalBaseList.append([listOfDirs[i], name])\n",
    "\n",
    "if(debug == True):\n",
    "    message = \"Gefiltert haben wir insgesammt haben wir \"+ str(len(finalBaseList)) +\" BASE-DIRECTORIES welche in die ERSTE(!!!!) Ebene der Navbar aufgenommen werden müssen\"\n",
    "    fc.printDebugErrorPart(\"Stockholm\", message)\n",
    "\n",
    "# Einlesen des Metainfos files\n",
    "metaInfosPDDF = pd.read_csv(\"C:\\DocTool\\DocToolMaintainingScripts\\SiteMetaInfos.csv\")\n",
    "#print(metaInfos.head)\n",
    "if(debug == True):\n",
    "    message = \"Das pandas dataframe wurde eingelesen. Das shape ist  \"+ str(metaInfosPDDF.shape)\n",
    "    fc.printDebugErrorPart(\"Berlin\", message)\n",
    "\n",
    "# Start der Navigation // hier auch das Theme // hier sind in erster Linie die Index und die About Seite verlinkt\n",
    "navbar = '<ul class=\"nav nav-pills navbar navbar-inverse\"> <li role=\"presentation\" name=\"index\" tabindex=\"00\"><a href=\"./index.html\">Start</a></li><li role=\"presentation\" name =\"about\" tabindex=\"10\"><a href=\"./about.html\">About</a></li>'\n",
    "\n",
    "tabindexFolder = 10"
   ]
  },
  {
   "cell_type": "code",
   "execution_count": null,
   "metadata": {
    "tags": []
   },
   "outputs": [],
   "source": [
    "for eachBaseMenu in finalBaseList:\n",
    "    if(debug == True):\n",
    "        message = \"Folgendes Base-Menu wurde geöffnet: \"+ str(eachBaseMenu)\n",
    "        fc.printDebugErrorPart(\"Hamburg\", message)\n",
    "    tabindexFolder = tabindexFolder + 10\n",
    "    navbar = navbar + '<li role=\"presentation\" class=\"dropdown\" name=\"' + str(eachBaseMenu[1]) + '\"><a class=\"dropdown-toggle\" data-toggle=\"dropdown\" href=\"LinkZurFolderIndex\" role=\"button\" aria-haspopup=\"true\" aria-expanded=\"false\" tabindex=\"' + str(tabindexFolder) + '\">' + str(eachBaseMenu[1]) + '</a>'\n",
    "    \n",
    "    navbar = fc.recursiveFolderHandling(eachBaseMenu[0], navbar, metaInfosPDDF)\n",
    "    navbar = navbar + '</li>' \n",
    "\n",
    "navbar = navbar+\"</ul>\"\n",
    "# bisher wurde alles auf der content seite gemacht. Wir wollen aber später html Dateien verlinken\n",
    "\n"
   ]
  },
  {
   "cell_type": "code",
   "execution_count": null,
   "metadata": {
    "tags": [
     "outputPrepend"
    ]
   },
   "outputs": [],
   "source": [
    "navbar = navbar+\"</ul>\"\n",
    "# bisher wurde alles auf der content seite gemacht. Wir wollen aber später html Dateien verlinken\n",
    "navbar = navbar.replace(\".md\",\".html\")\n",
    "navbar = navbar.replace(\"./\",\"/\")\n",
    "soup = bs(navbar)\n",
    "navbar = soup.prettify() \n",
    "navbar = navbar.replace(\"<html>\", \"\")\n",
    "navbar = navbar.replace(\"<body>\", \"\")\n",
    "navbar = navbar.replace(\"</body>\", \"\")\n",
    "navbar = navbar.replace(\"</html>\", \"\")\n",
    "\n",
    "print(navbar)\n",
    "print(len(navbar))"
   ]
  },
  {
   "cell_type": "code",
   "execution_count": null,
   "metadata": {},
   "outputs": [],
   "source": [
    "# Speichern in Navbar, diese Datei wird dann im Layout aufgegriffen\n",
    "f = open(\"navbar.html\", \"w\")\n",
    "f.write(navbar)\n",
    "f.close()\n",
    "\n",
    "if(debug == True):\n",
    "    filename = \"hallo\"\n",
    "    message = str(filename) + \" -Skript ist erfolgreich durchgelaufen.  Kontrolle ob im Explorer die Datei Navbar exisitiert und ob diese geöffnet werden kann, Die datei navbar kann auch im Browser geöffnet werden.\"\n",
    "    fc.printDebugErrorPart(\"Ushuaia\", message)"
   ]
  },
  {
   "cell_type": "code",
   "execution_count": null,
   "metadata": {},
   "outputs": [],
   "source": []
  }
 ]
}