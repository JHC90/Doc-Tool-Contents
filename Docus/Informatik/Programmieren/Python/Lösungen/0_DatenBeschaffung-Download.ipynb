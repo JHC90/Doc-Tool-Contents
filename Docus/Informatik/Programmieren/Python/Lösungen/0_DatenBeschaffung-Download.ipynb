{
 "cells": [
  {
   "cell_type": "markdown",
   "metadata": {},
   "source": [
    "# Beschreibung\n",
    "Dieses Notebook dient dazu, Möglichkeiten darzustellen wie Inhalte von remote Geräten geladen werden können. "
   ]
  },
  {
   "cell_type": "markdown",
   "metadata": {},
   "source": [
    "hier der Link zu meinem Public-Google-Folder // sprich hierzu braucht es keine Google-Anmeldung:<br>\n",
    "    https://drive.google.com/drive/folders/17cptzULW_4is3t2_3eNy2oCEHGiDWevt?usp=sharing<br>\n",
    "und hier der link zu den beiden Dateien, die sich in dem Folder befinden:<br>\n",
    "  1) https://drive.google.com/open?id=1WsaoZuh6eJVryqXBUNh2QUn0VbbXRyof  || DATA<br>\n",
    "  2) https://drive.google.com/open?id=1KgWXbB9jtVUncE5R0AL9enfwWGwTE0AB || DESCRITPION<br>\n",
    "  \n",
    "ggf änderung des Links zu einem Downloadlink nach folgendem Vorgehen: http://apps-experts.de/2014/10/das-neue-google-drive-45-direkte-downloadlinks-in-google-drive-erstellen/\n",
    "\n",
    "a)\n",
    "https://drive.google.com/open?id=1WsaoZuh6eJVryqXBUNh2QUn0VbbXRyof/export?format=csv"
   ]
  },
  {
   "cell_type": "markdown",
   "metadata": {},
   "source": [
    "## Requests\n",
    "Download PDF-Datei von willkürlicher Quelle. Ist aber an sich egal von wo, hier kann ich auch andere Daten mit herunterladen. Wichtig ist nur dass hierbei keine Anmeldung an dem Remote Standort stattfindet. "
   ]
  },
  {
   "cell_type": "code",
   "execution_count": null,
   "metadata": {},
   "outputs": [],
   "source": []
  },
  {
   "cell_type": "code",
   "execution_count": 3,
   "metadata": {},
   "outputs": [
    {
     "output_type": "stream",
     "name": "stdout",
     "text": [
      "Download Starting...\n",
      "Download Completed!!!\n"
     ]
    }
   ],
   "source": [
    "import requests\n",
    "print('Download Starting...')\n",
    "url = 'http://www.tutorialspoint.com/python3/python_tutorial.pdf' # => Checken ob die Datei bereits vorliegt oder nicht\n",
    "r = requests.get(url)\n",
    "filename = \"./Sample-PDF.pdf\"\n",
    "with open(filename,'wb') as output_file:\n",
    "    output_file.write(r.content)\n",
    "print('Download Completed!!!')"
   ]
  },
  {
   "source": [
    "# Github"
   ],
   "cell_type": "markdown",
   "metadata": {}
  },
  {
   "cell_type": "code",
   "execution_count": 14,
   "metadata": {},
   "outputs": [],
   "source": [
    "import os\n",
    "import tarfile\n",
    "from six.moves import urllib\n",
    "\n",
    "DOWNLOAD_ROOT = \"https://raw.githubusercontent.com/ageron/handson-ml/master/\"\n",
    "HOUSING_PATH = os.path.join(\"datasets\", \"housing\")\n",
    "HOUSING_URL = DOWNLOAD_ROOT + \"datasets/housing/housing.tgz\"\n",
    "\n",
    "def fetch_housing_data(housing_url=HOUSING_URL, housing_path=HOUSING_PATH):\n",
    "    os.makedirs(housing_path, exist_ok=True)\n",
    "    tgz_path = os.path.join(housing_path, \"housing.tgz\")\n",
    "    urllib.request.urlretrieve(housing_url, tgz_path)\n",
    "    housing_tgz = tarfile.open(tgz_path)\n",
    "    housing_tgz.extractall(path=housing_path)\n",
    "    housing_tgz.close()\n",
    "fetch_housing_data()"
   ]
  },
  {
   "cell_type": "markdown",
   "metadata": {},
   "source": [
    "## Gdown bei Public-G-Drvie = keine Anmeldung bei Google\n",
    "https://stackoverflow.com/questions/38511444/python-download-files-from-google-drive-using-url<br>\n",
    "\n",
    "die Bibloiothek ermöglicht es mir easy von Google-Drive Public daten herunterzuladen.  "
   ]
  },
  {
   "cell_type": "code",
   "execution_count": 15,
   "metadata": {},
   "outputs": [
    {
     "output_type": "stream",
     "name": "stdout",
     "text": [
      "Processing c:\\users\\1810837475\\appdata\\local\\pip\\cache\\wheels\\e2\\62\\1e\\926d1ebe7b1e733c78d627fd288d01b83feaf67efc06e0e4c3\\gdown-3.12.2-py3-none-any.whl\n",
      "Requirement already satisfied: requests[socks] in c:\\users\\1810837475\\appdata\\roaming\\python\\python38\\site-packages (from gdown) (2.24.0)\n",
      "Requirement already satisfied: tqdm in c:\\users\\1810837475\\anaconda3\\lib\\site-packages (from gdown) (4.47.0)\n",
      "Requirement already satisfied: filelock in c:\\users\\1810837475\\anaconda3\\lib\\site-packages (from gdown) (3.0.12)\n",
      "Requirement already satisfied: six in c:\\users\\1810837475\\anaconda3\\lib\\site-packages (from gdown) (1.15.0)\n",
      "Requirement already satisfied: idna<3,>=2.5 in c:\\users\\1810837475\\anaconda3\\lib\\site-packages (from requests[socks]->gdown) (2.10)\n",
      "Requirement already satisfied: certifi>=2017.4.17 in c:\\users\\1810837475\\anaconda3\\lib\\site-packages (from requests[socks]->gdown) (2020.6.20)\n",
      "Requirement already satisfied: urllib3!=1.25.0,!=1.25.1,<1.26,>=1.21.1 in c:\\users\\1810837475\\appdata\\roaming\\python\\python38\\site-packages (from requests[socks]->gdown) (1.25.11)\n",
      "Requirement already satisfied: chardet<4,>=3.0.2 in c:\\users\\1810837475\\anaconda3\\lib\\site-packages (from requests[socks]->gdown) (3.0.4)\n",
      "Requirement already satisfied: PySocks!=1.5.7,>=1.5.6; extra == \"socks\" in c:\\users\\1810837475\\anaconda3\\lib\\site-packages (from requests[socks]->gdown) (1.7.1)\n",
      "Installing collected packages: gdown\n",
      "Successfully installed gdown-3.12.2\n",
      "Das System kann den angegebenen Pfad nicht finden.\n"
     ]
    }
   ],
   "source": [
    "!pip install gdown"
   ]
  },
  {
   "cell_type": "code",
   "execution_count": 17,
   "metadata": {},
   "outputs": [
    {
     "output_type": "stream",
     "name": "stderr",
     "text": [
      "Downloading...\n",
      "From: https://drive.google.com/uc?id=0B9P1L--7Wd2vU3VUVlFnbTgtS2c\n",
      "To: c:\\DocTool\\content\\Docus\\Informatik\\Programmieren\\Python\\Lösungen\\spam.txt\n",
      "100%|██████████| 5.00/5.00 [00:00<00:00, 4.94kB/s]\n"
     ]
    },
    {
     "output_type": "execute_result",
     "data": {
      "text/plain": [
       "'./spam.txt'"
      ]
     },
     "metadata": {},
     "execution_count": 17
    }
   ],
   "source": [
    "import gdown\n",
    "\n",
    "url = 'https://drive.google.com/uc?id=0B9P1L--7Wd2vU3VUVlFnbTgtS2c'\n",
    "output = './spam.txt'\n",
    "gdown.download(url, output, quiet=False) "
   ]
  }
 ],
 "metadata": {
  "kernelspec": {
   "display_name": "Python 3",
   "language": "python",
   "name": "python3"
  },
  "language_info": {
   "codemirror_mode": {
    "name": "ipython",
    "version": 3
   },
   "file_extension": ".py",
   "mimetype": "text/x-python",
   "name": "python",
   "nbconvert_exporter": "python",
   "pygments_lexer": "ipython3",
   "version": "3.8.3-final"
  },
  "toc": {
   "base_numbering": 1,
   "nav_menu": {},
   "number_sections": true,
   "sideBar": true,
   "skip_h1_title": false,
   "title_cell": "Table of Contents",
   "title_sidebar": "Contents",
   "toc_cell": false,
   "toc_position": {},
   "toc_section_display": true,
   "toc_window_display": true
  }
 },
 "nbformat": 4,
 "nbformat_minor": 2
}