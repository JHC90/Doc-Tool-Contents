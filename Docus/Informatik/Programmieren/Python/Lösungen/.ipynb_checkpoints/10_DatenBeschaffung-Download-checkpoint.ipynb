{
 "cells": [
  {
   "cell_type": "markdown",
   "metadata": {},
   "source": [
    "'''''\n",
    "{\n",
    "\"title\": \"SK-Learn-Pipeline\",\n",
    "\"keywords\": \"SK-Learn, Sampling, Stratified\",\n",
    "\"categories\": \"\",\n",
    "\"description\": \"hier werden die Möglihckeiten gelitste wie man ein Train Test split vollziehen kann\",\n",
    "\"level\": \"10\",\n",
    "\"pageID\": \"16112020-SK-Learn\"\n",
    "}\n",
    "'''''"
   ]
  },
  {
   "cell_type": "markdown",
   "metadata": {},
   "source": [
    "# Infos\n",
    "hier der Link zu meinem Public-Google-Folder // sprich hierzu braucht es keine Google-Anmeldung:<br>\n",
    "    https://drive.google.com/drive/folders/17cptzULW_4is3t2_3eNy2oCEHGiDWevt?usp=sharing<br>\n",
    "und hier der link zu den beiden Dateien, die sich in dem Folder befinden:<br>\n",
    "  1) https://drive.google.com/open?id=1WsaoZuh6eJVryqXBUNh2QUn0VbbXRyof  || DATA<br>\n",
    "  2) https://drive.google.com/open?id=1KgWXbB9jtVUncE5R0AL9enfwWGwTE0AB || DESCRITPION<br>\n",
    "  \n",
    "ggf änderung des Links zu einem Downloadlink nach folgendem Vorgehen: http://apps-experts.de/2014/10/das-neue-google-drive-45-direkte-downloadlinks-in-google-drive-erstellen/\n",
    "\n",
    "a)\n",
    "https://drive.google.com/open?id=1WsaoZuh6eJVryqXBUNh2QUn0VbbXRyof/export?format=csv"
   ]
  },
  {
   "cell_type": "markdown",
   "metadata": {},
   "source": [
    "# Beschreibung\n",
    "Dieses Notebook dient dazu, Möglichkeiten darzustellen wie Inhalte von remote Geräten geladen werden können. "
   ]
  },
  {
   "cell_type": "markdown",
   "metadata": {},
   "source": [
    "## Requests\n",
    "Download PDF-Datei von willkürlicher Quelle. Ist aber an sich egal von wo, hier kann ich auch andere Daten mit herunterladen. Wichtig ist nur dass hierbei keine Anmeldung an dem Remote Standort stattfindet. "
   ]
  },
  {
   "cell_type": "code",
   "execution_count": 9,
   "metadata": {},
   "outputs": [
    {
     "name": "stdout",
     "output_type": "stream",
     "text": [
      "Download Starting...\n",
      "Download Completed!!!\n"
     ]
    }
   ],
   "source": [
    "import requests\n",
    "print('Download Starting...')\n",
    "url = 'http://www.tutorialspoint.com/python3/python_tutorial.pdf' # => Checken ob die Datei bereits vorliegt oder nicht\n",
    "r = requests.get(url)\n",
    "filename = \"./datasets/Sample-PDF.pdf\"\n",
    "with open(filename,'wb') as output_file:\n",
    "    output_file.write(r.content)\n",
    "print('Download Completed!!!')"
   ]
  },
  {
   "cell_type": "markdown",
   "metadata": {},
   "source": [
    "# Github"
   ]
  },
  {
   "cell_type": "code",
   "execution_count": 10,
   "metadata": {},
   "outputs": [],
   "source": [
    "import os\n",
    "import tarfile\n",
    "from six.moves import urllib\n",
    "\n",
    "DOWNLOAD_ROOT = \"https://raw.githubusercontent.com/ageron/handson-ml/master/\"\n",
    "HOUSING_PATH = os.path.join(\"datasets\", \"housing\")\n",
    "HOUSING_URL = DOWNLOAD_ROOT + \"datasets/housing/housing.tgz\"\n",
    "\n",
    "def fetch_housing_data(housing_url=HOUSING_URL, housing_path=HOUSING_PATH):\n",
    "    os.makedirs(housing_path, exist_ok=True)\n",
    "    tgz_path = os.path.join(housing_path, \"housing.tgz\")\n",
    "    urllib.request.urlretrieve(housing_url, tgz_path)\n",
    "    housing_tgz = tarfile.open(tgz_path)\n",
    "    housing_tgz.extractall(path=housing_path)\n",
    "    housing_tgz.close()\n",
    "fetch_housing_data()"
   ]
  },
  {
   "cell_type": "markdown",
   "metadata": {},
   "source": [
    "## Gdown bei Public-G-Drvie = keine Anmeldung bei Google\n",
    "https://stackoverflow.com/questions/38511444/python-download-files-from-google-drive-using-url<br>\n",
    "\n",
    "die Bibloiothek ermöglicht es mir easy von Google-Drive Public daten herunterzuladen.  "
   ]
  },
  {
   "cell_type": "code",
   "execution_count": 11,
   "metadata": {},
   "outputs": [
    {
     "name": "stderr",
     "output_type": "stream",
     "text": [
      "Downloading...\n",
      "From: https://drive.google.com/uc?id=0B9P1L--7Wd2vU3VUVlFnbTgtS2c\n",
      "To: c:\\DocTool\\content\\Docus\\Informatik\\Programmieren\\Python\\Lösungen\\datasets\\spam.txt\n",
      "100%|██████████| 5.00/5.00 [00:00<00:00, 1.67kB/s]\n"
     ]
    },
    {
     "data": {
      "text/plain": [
       "'./datasets/spam.txt'"
      ]
     },
     "execution_count": 11,
     "metadata": {},
     "output_type": "execute_result"
    }
   ],
   "source": [
    "#!pip install gdown\n",
    "import gdown\n",
    "\n",
    "url = 'https://drive.google.com/uc?id=0B9P1L--7Wd2vU3VUVlFnbTgtS2c'\n",
    "output = './datasets/spam.txt'\n",
    "gdown.download(url, output, quiet=False) "
   ]
  },
  {
   "cell_type": "markdown",
   "metadata": {},
   "source": [
    "# Funktion Data-Download\n",
    "Die Funktion besitzt etwas Intelligenz, da diese zunächst prüft ob das Dataset bereits heruntergeladen wurde. Die Daten werden nur dann heruntergeladen, wenn diese nicht bereits loakl vorliegen. Im weiteren werden die Daten heru"
   ]
  },
  {
   "cell_type": "code",
   "execution_count": 12,
   "metadata": {},
   "outputs": [
    {
     "name": "stdout",
     "output_type": "stream",
     "text": [
      "archive already downloaded.\n",
      "############\n",
      "Hier ein erneuter aufruf der Funktion mit den gleichen Paramtertern => Kein weitere Download:\n",
      "archive already downloaded.\n"
     ]
    }
   ],
   "source": [
    "import os\n",
    "from urllib.request import urlretrieve\n",
    "def download_dataset(url,dataset_file_path,extraction_directory):\n",
    "    if (not os.path.exists(extraction_directory)):\n",
    "        os.makedirs(extraction_directory)\n",
    "    if os.path.exists(dataset_file_path):\n",
    "        print(\"archive already downloaded.\")\n",
    "    else:\n",
    "        print(\"started loading archive from url {}\".format(url))\n",
    "        filename, headers = urlretrieve(url, dataset_file_path)\n",
    "        print(\"finished loading archive from url {} to {}\".format(url,filename))\n",
    "\n",
    "urlDataSource = 'http://ai.stanford.edu/~amaas/data/sentiment/aclImdb_v1.tar.gz'\n",
    "localExtractionFolder = 'datasets/moviereviews'\n",
    "localDataArchive = localExtractionFolder + '/aclImdb_v1.tar.gz'\n",
    "textData = localExtractionFolder + '/aclImdb/'\n",
    "\n",
    "download_dataset(urlDataSource,localDataArchive,localExtractionFolder)\n",
    "print('############')\n",
    "print('Hier ein erneuter aufruf der Funktion mit den gleichen Paramtertern => Kein weitere Download:')\n",
    "download_dataset(urlDataSource,localDataArchive,localExtractionFolder)"
   ]
  }
 ],
 "metadata": {
  "kernelspec": {
   "display_name": "Python 3",
   "language": "python",
   "name": "python3"
  },
  "language_info": {
   "codemirror_mode": {
    "name": "ipython",
    "version": 3
   },
   "file_extension": ".py",
   "mimetype": "text/x-python",
   "name": "python",
   "nbconvert_exporter": "python",
   "pygments_lexer": "ipython3",
   "version": "3.8.3"
  },
  "toc": {
   "base_numbering": 1,
   "nav_menu": {},
   "number_sections": true,
   "sideBar": true,
   "skip_h1_title": false,
   "title_cell": "Table of Contents",
   "title_sidebar": "Contents",
   "toc_cell": false,
   "toc_position": {},
   "toc_section_display": true,
   "toc_window_display": true
  }
 },
 "nbformat": 4,
 "nbformat_minor": 4
}
