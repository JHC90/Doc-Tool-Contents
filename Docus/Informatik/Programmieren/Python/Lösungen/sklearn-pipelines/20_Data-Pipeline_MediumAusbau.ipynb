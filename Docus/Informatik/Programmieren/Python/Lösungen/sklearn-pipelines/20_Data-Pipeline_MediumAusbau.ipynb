{
 "cells": [
  {
   "cell_type": "markdown",
   "metadata": {},
   "source": [
    "'''''\n",
    "{\n",
    "\"title\": \"Python Lösungen - SK-Learn Pipelines,\n",
    "\"keywords\": \"python, SK-Learn, Pipeline \",\n",
    "\"categories\": \"\",\n",
    "\"description\": \"Hier werden unterschiedliche Methoden aufgezeigt wie Remote Datensätze lokal verfügbar gemacht werden können\",\n",
    "\"level\": \"20\",\n",
    "\"pageID\": \"15112020-SK-Learn-Pipelines-Extended\"\n",
    "}\n",
    "'''''"
   ]
  },
  {
   "cell_type": "markdown",
   "metadata": {},
   "source": [
    "# SK-Learn Pipelines\n",
    "\n",
    "Hier der zweite Teil der SK-Learn notebooks. Nun werden die Feature einerseits mit Namen und anderseits auch per Datentyp angesprochen"
   ]
  },
  {
   "cell_type": "code",
   "execution_count": 23,
   "metadata": {},
   "outputs": [],
   "source": [
    "## Bibliotheken"
   ]
  },
  {
   "cell_type": "code",
   "execution_count": 24,
   "metadata": {},
   "outputs": [],
   "source": [
    "import pandas as pd\n",
    "import numpy as np\n",
    "from sklearn.model_selection import train_test_split"
   ]
  },
  {
   "cell_type": "markdown",
   "metadata": {},
   "source": [
    "## Data-Loading"
   ]
  },
  {
   "cell_type": "code",
   "execution_count": 25,
   "metadata": {},
   "outputs": [],
   "source": [
    "labelList=['symboling','normalizedLosses','make','fuelType','aspiration','numOfDoors','bodyStyle','driveWheels','engineLocation',\n",
    "           'wheelBase','length','width','height','curbWeight','engineType','numOfCylinders','engineSize','fuelSystem','bore',\n",
    "           'stroke','compressionRatio','horsepower','peakRpm','cityMpg','highwayMpg','price']\n",
    "df = pd.read_csv('./data_car.csv',delimiter=',',encoding='utf-8', names=labelList)\n",
    "df = df.replace(\"?\", np.nan)\n",
    "df[['price']]=df[['price']].astype('float64')"
   ]
  },
  {
   "cell_type": "code",
   "execution_count": 26,
   "metadata": {},
   "outputs": [
    {
     "name": "stdout",
     "output_type": "stream",
     "text": [
      "<class 'pandas.core.frame.DataFrame'>\n",
      "RangeIndex: 205 entries, 0 to 204\n",
      "Data columns (total 26 columns):\n",
      " #   Column            Non-Null Count  Dtype  \n",
      "---  ------            --------------  -----  \n",
      " 0   symboling         205 non-null    int64  \n",
      " 1   normalizedLosses  164 non-null    object \n",
      " 2   make              205 non-null    object \n",
      " 3   fuelType          205 non-null    object \n",
      " 4   aspiration        205 non-null    object \n",
      " 5   numOfDoors        203 non-null    object \n",
      " 6   bodyStyle         205 non-null    object \n",
      " 7   driveWheels       205 non-null    object \n",
      " 8   engineLocation    205 non-null    object \n",
      " 9   wheelBase         205 non-null    float64\n",
      " 10  length            205 non-null    float64\n",
      " 11  width             205 non-null    float64\n",
      " 12  height            205 non-null    float64\n",
      " 13  curbWeight        205 non-null    int64  \n",
      " 14  engineType        205 non-null    object \n",
      " 15  numOfCylinders    205 non-null    object \n",
      " 16  engineSize        205 non-null    int64  \n",
      " 17  fuelSystem        205 non-null    object \n",
      " 18  bore              201 non-null    object \n",
      " 19  stroke            201 non-null    object \n",
      " 20  compressionRatio  205 non-null    float64\n",
      " 21  horsepower        203 non-null    object \n",
      " 22  peakRpm           203 non-null    object \n",
      " 23  cityMpg           205 non-null    int64  \n",
      " 24  highwayMpg        205 non-null    int64  \n",
      " 25  price             201 non-null    float64\n",
      "dtypes: float64(6), int64(5), object(15)\n",
      "memory usage: 41.8+ KB\n"
     ]
    }
   ],
   "source": [
    "df.info()"
   ]
  },
  {
   "cell_type": "code",
   "execution_count": 27,
   "metadata": {},
   "outputs": [],
   "source": [
    "output_features = [\n",
    "    \"symboling\"\n",
    "]\n",
    "\n",
    "input_features = [\n",
    "    'normalizedLosses',\n",
    "    'make',\n",
    "    'fuelType',\n",
    "    'aspiration',\n",
    "    'numOfDoors',\n",
    "    'bodyStyle',\n",
    "    'driveWheels',\n",
    "    'engineLocation',\n",
    "    'wheelBase',\n",
    "    'length',\n",
    "    'width',\n",
    "    'height',\n",
    "    'curbWeight',\n",
    "    'engineType',\n",
    "    'numOfCylinders',\n",
    "    'engineSize',\n",
    "    'fuelSystem',\n",
    "    'bore',\n",
    "    'stroke',\n",
    "    'compressionRatio',\n",
    "    'horsepower',\n",
    "    'peakRpm',\n",
    "    'cityMpg',\n",
    "    'highwayMpg',\n",
    "    'price'\n",
    "]\n",
    "\n",
    "train_X, test_X, train_y, test_y = train_test_split(\n",
    "    df[input_features], \n",
    "    df[output_features],\n",
    "    test_size=0.2\n",
    ")"
   ]
  },
  {
   "cell_type": "code",
   "execution_count": 28,
   "metadata": {},
   "outputs": [
    {
     "data": {
      "text/plain": [
       "((164, 25), (41, 25), (164, 1), (41, 1))"
      ]
     },
     "execution_count": 28,
     "metadata": {},
     "output_type": "execute_result"
    }
   ],
   "source": [
    "train_X.shape, test_X.shape, train_y.shape, test_y.shape"
   ]
  },
  {
   "cell_type": "code",
   "execution_count": 29,
   "metadata": {},
   "outputs": [],
   "source": [
    "import numpy as np\n",
    "\n",
    "def debug_print(X, debug):\n",
    "    \"\"\"This method prints some debug information based on a debug parameter.\"\"\"\n",
    "    if not debug in [\"input\", \"shape\", \"columns\", False]:\n",
    "        raise ValueError(\"Debug parameter value is not valied.\")\n",
    "    elif debug==\"input\":\n",
    "        print(X.head(5))\n",
    "    elif debug==\"shape\":\n",
    "        print(X.shape)\n",
    "    elif debug==\"columns\":\n",
    "        print(X.columns)\n",
    "    elif debug is False:\n",
    "        pass"
   ]
  },
  {
   "cell_type": "code",
   "execution_count": 30,
   "metadata": {},
   "outputs": [],
   "source": [
    "class PriceImputer():\n",
    "    \"\"\"Imputs Price with median price of car-Brand.\"\"\"\n",
    "    def __init__(self, debug=False):\n",
    "        self.d = debug\n",
    "        self.colnames = None\n",
    "    \n",
    "    def fit(self, X, y=None):\n",
    "        return self\n",
    "    \n",
    "    def transform(self, X):\n",
    "        debug_print(X=X, debug=self.d)\n",
    "        df = X.copy()\n",
    "        # Es wird der durschnittliche Preis der jeweiligen Marke imputet\n",
    "        df.price = df.groupby(['make'])['price'].apply(lambda x: x.fillna(x.median()))\n",
    "        self.colnames = df.columns.tolist()\n",
    "        return df\n",
    "    \n",
    "    def get_feature_names(self):\n",
    "        return self.colnames "
   ]
  },
  {
   "cell_type": "code",
   "execution_count": 31,
   "metadata": {},
   "outputs": [],
   "source": [
    "class OHE():\n",
    "    \"\"\"OHE on the Object-Variables\"\"\"\n",
    "\n",
    "    def __init__(self, debug=False):\n",
    "        self.d = debug\n",
    "        self.colnames = None\n",
    "    \n",
    "    def fit(self, X, y=None):\n",
    "        return self\n",
    "    \n",
    "    def transform(self, X):\n",
    "        interimLabelListdf = X.select_dtypes(include='object')\n",
    "        interimLabelList = list(interimLabelListdf.columns)\n",
    "        ohe = OneHotEncoder(sparse=False)\n",
    "        npArray = ohe.fit_transform(X[interimLabelList])\n",
    "        titles = []\n",
    "        for singleList in ohe.categories_:\n",
    "            titles = titles + list(singleList)\n",
    "        interimDF = pd.DataFrame(data = npArray, columns=titles)\n",
    "        df = pd.concat([X, interimDF], axis=1, sort=False)\n",
    "        for i in range(0,len(interimLabelList),1):\n",
    "            df = df.drop([interimLabelList[i]], axis=1)\n",
    "            #train_X = train_X.drop(['normalizedLosses'], axis=1)\n",
    "        return df\n",
    "    \n",
    "    \n",
    "    def get_feature_names(self):\n",
    "        return self.colnames"
   ]
  },
  {
   "cell_type": "code",
   "execution_count": 32,
   "metadata": {},
   "outputs": [],
   "source": [
    "from sklearn.pipeline import Pipeline\n",
    "\n",
    "class FeaturePipeline(Pipeline):\n",
    "    def get_feature_names(self):\n",
    "        return self.steps[-1][1].get_feature_names()"
   ]
  },
  {
   "cell_type": "code",
   "execution_count": 33,
   "metadata": {},
   "outputs": [],
   "source": [
    "# Selectoren"
   ]
  },
  {
   "cell_type": "code",
   "execution_count": 34,
   "metadata": {},
   "outputs": [],
   "source": [
    "class FeatureSelector:\n",
    "    \"\"\"This transformer lets you pick columns from a pandas dataset based on name\"\"\"\n",
    "    def __init__(self, features = [], debug=False):\n",
    "        self.d = debug\n",
    "        self.colnames = None\n",
    "        if type(features) != list:\n",
    "            raise ValueError(\"Input features must be of type List.\")\n",
    "        elif type(features) == list:\n",
    "            self.columns = features\n",
    "\n",
    "    def fit(self, X, y=None):\n",
    "        return self\n",
    "\n",
    "    def transform(self, X):\n",
    "        debug_print(X=X, debug=self.d)\n",
    "        X = X[self.columns]\n",
    "        self.colnames = X.columns.tolist()\n",
    "        return X\n",
    "    \n",
    "    def get_feature_names(self):\n",
    "        return self.colnames"
   ]
  },
  {
   "cell_type": "code",
   "execution_count": 38,
   "metadata": {},
   "outputs": [],
   "source": [
    "# DataType\n",
    "from sklearn.base import BaseEstimator, TransformerMixin\n",
    "class TypeSelector(BaseEstimator, TransformerMixin):\n",
    "    \"\"\"This transformer lets you pick columns from a pandas dataset based on Datatype\"\"\"\n",
    "    def __init__(self, dtype):\n",
    "        self.dtype = dtype\n",
    "\n",
    "    def fit(self, X, y=None):\n",
    "        return self\n",
    "\n",
    "    def transform(self, X):\n",
    "        assert isinstance(X, pd.DataFrame)\n",
    "        return X.select_dtypes(include=[self.dtype])"
   ]
  },
  {
   "cell_type": "code",
   "execution_count": 42,
   "metadata": {},
   "outputs": [],
   "source": [
    "from sklearn.pipeline import Pipeline, FeatureUnion\n",
    "from sklearn.preprocessing import RobustScaler, OneHotEncoder\n",
    "from sklearn.impute import SimpleImputer\n",
    "debug_state = False\n",
    "# Definition Pipeline\n",
    "pipe = FeaturePipeline(\n",
    "    [\n",
    "\n",
    "        (\"price_imputationName\", PriceImputer(debug=False)),\n",
    "        #(\"OHE\", OHE(debug=False)),\n",
    "    ]\n",
    ")"
   ]
  },
  {
   "cell_type": "code",
   "execution_count": 43,
   "metadata": {},
   "outputs": [
    {
     "data": {
      "image/png": "[encoded data removed]",
      "text/plain": [
       "<Figure size 1080x720 with 1 Axes>"
      ]
     },
     "metadata": {},
     "output_type": "display_data"
    }
   ],
   "source": [
    "from pipe_tools.pipe_visualizer import plot_pipeline\n",
    "plot_pipeline(pipe, \"pipeline_plot.png\")"
   ]
  },
  {
   "cell_type": "code",
   "execution_count": 44,
   "metadata": {},
   "outputs": [
    {
     "name": "stdout",
     "output_type": "stream",
     "text": [
      "True\n",
      "(164, 25)\n",
      "False\n",
      "(164, 25)\n"
     ]
    }
   ],
   "source": [
    "print(train_X.price.isna().any())\n",
    "print(train_X.shape)\n",
    "train_X_prepared = pipe.transform(train_X)\n",
    "print(train_X_prepared.price.isna().any())\n",
    "print(train_X_prepared.shape)"
   ]
  },
  {
   "cell_type": "code",
   "execution_count": null,
   "metadata": {},
   "outputs": [],
   "source": []
  }
 ],
 "metadata": {
  "kernelspec": {
   "display_name": "Python 3",
   "language": "python",
   "name": "python3"
  },
  "language_info": {
   "codemirror_mode": {
    "name": "ipython",
    "version": 3
   },
   "file_extension": ".py",
   "mimetype": "text/x-python",
   "name": "python",
   "nbconvert_exporter": "python",
   "pygments_lexer": "ipython3",
   "version": "3.8.3"
  }
 },
 "nbformat": 4,
 "nbformat_minor": 4
}
