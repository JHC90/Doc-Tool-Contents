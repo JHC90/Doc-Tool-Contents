{
 "cells": [
  {
   "cell_type": "markdown",
   "metadata": {},
   "source": [
    "'''''\n",
    "{\n",
    "\"title\": \"One Hot Encoding\",\n",
    "\"keywords\": \"Ordinal Encoder, OHE, One-Hot-Encoder\",\n",
    "\"categories\": \"\",\n",
    "\"description\": \"hier werden die Möglihckeiten gelitste wie man ein Train Test split vollziehen kann\",\n",
    "\"level\": \"50\",\n",
    "\"pageID\": \"16112020-OneHotEncodingOrdinalEncoding\"\n",
    "}\n",
    "'''''"
   ]
  },
  {
   "cell_type": "markdown",
   "metadata": {},
   "source": [
    "# NaN-Werte\n",
    "Die meisten Algorithmen können nicht mit NAN werten umgehen. Daher gibt es hierbei unterschiedliche Anwendungsoptionen. Die zeilen oder Spalten könnnen entweder weggelassen werden. Alternativ können mit hilfe eines Imputers Ein Wert in das leere Feld gesetzt werden."
   ]
  },
  {
   "cell_type": "code",
   "execution_count": 2,
   "metadata": {},
   "outputs": [],
   "source": [
    "import os\n",
    "import pandas as pd\n",
    "import numpy as np"
   ]
  },
  {
   "cell_type": "code",
   "execution_count": 3,
   "metadata": {},
   "outputs": [
    {
     "data": {
      "text/plain": [
       "(20640, 10)"
      ]
     },
     "execution_count": 3,
     "metadata": {},
     "output_type": "execute_result"
    }
   ],
   "source": [
    "#DatenLaden\n",
    "HOUSING_PATH = os.path.join(\"datasets\", \"housing\")\n",
    "def load_housing_data(housing_path=HOUSING_PATH):\n",
    "    csv_path = os.path.join(housing_path, \"housing.csv\")\n",
    "    return pd.read_csv(csv_path)\n",
    "housing = load_housing_data()\n",
    "housing.shape"
   ]
  },
  {
   "cell_type": "code",
   "execution_count": 4,
   "metadata": {},
   "outputs": [
    {
     "name": "stdout",
     "output_type": "stream",
     "text": [
      "<class 'pandas.core.frame.DataFrame'>\n",
      "RangeIndex: 20640 entries, 0 to 20639\n",
      "Data columns (total 10 columns):\n",
      " #   Column              Non-Null Count  Dtype  \n",
      "---  ------              --------------  -----  \n",
      " 0   longitude           20640 non-null  float64\n",
      " 1   latitude            20640 non-null  float64\n",
      " 2   housing_median_age  20640 non-null  float64\n",
      " 3   total_rooms         20640 non-null  float64\n",
      " 4   total_bedrooms      20433 non-null  float64\n",
      " 5   population          20640 non-null  float64\n",
      " 6   households          20640 non-null  float64\n",
      " 7   median_income       20640 non-null  float64\n",
      " 8   median_house_value  20640 non-null  float64\n",
      " 9   ocean_proximity     20640 non-null  object \n",
      "dtypes: float64(9), object(1)\n",
      "memory usage: 1.6+ MB\n"
     ]
    }
   ],
   "source": [
    "#housing.dtypes\n",
    "housing.info()"
   ]
  },
  {
   "cell_type": "markdown",
   "metadata": {},
   "source": [
    "# One Hote Encoding\n",
    "Bei OHE werden kategorische = object Variablen in numerische Werte übertragen. Dazu wird zu jeder mögichen Variable eine Liste angelegt und aus jedem möglichen Wert eine eigene Spate"
   ]
  },
  {
   "cell_type": "code",
   "execution_count": 5,
   "metadata": {},
   "outputs": [
    {
     "name": "stdout",
     "output_type": "stream",
     "text": [
      "  ocean_proximity\n",
      "0        NEAR BAY\n",
      "1        NEAR BAY\n",
      "2        NEAR BAY\n",
      "3        NEAR BAY\n",
      "4        NEAR BAY\n",
      "5        NEAR BAY\n",
      "6        NEAR BAY\n",
      "7        NEAR BAY\n",
      "8        NEAR BAY\n",
      "9        NEAR BAY\n",
      "(20640, 1)\n",
      "['NEAR BAY' '<1H OCEAN' 'INLAND' 'NEAR OCEAN' 'ISLAND']\n"
     ]
    }
   ],
   "source": [
    "housing_cat = housing[['ocean_proximity']]\n",
    "print(housing_cat.head(10))\n",
    "print(housing_cat.shape)\n",
    "print(housing_cat.ocean_proximity.unique()) # Anzeige aller möglichen Ausprägungen"
   ]
  },
  {
   "cell_type": "markdown",
   "metadata": {},
   "source": [
    "# OrdinalEncoder mit SK-Learn\n",
    "Beim Ordinal-Encoder werden lediglich die einzlenen Kategorien mit Hilfe einer Map übertragen. Vor und nach dem Ordinal-Encoding besteht lediglich 1 bezugnehmende Spalte"
   ]
  },
  {
   "cell_type": "code",
   "execution_count": 6,
   "metadata": {},
   "outputs": [],
   "source": [
    "try:\n",
    "    from sklearn.preprocessing import OrdinalEncoder\n",
    "except ImportError:\n",
    "    from future_encoders import OrdinalEncoder # Scikit-Learn < 0.20"
   ]
  },
  {
   "cell_type": "code",
   "execution_count": 7,
   "metadata": {},
   "outputs": [
    {
     "name": "stdout",
     "output_type": "stream",
     "text": [
      "[[3.]\n",
      " [3.]\n",
      " [3.]\n",
      " [3.]\n",
      " [3.]\n",
      " [3.]\n",
      " [3.]\n",
      " [3.]\n",
      " [3.]\n",
      " [3.]]\n"
     ]
    },
    {
     "data": {
      "text/plain": [
       "(20640, 1)"
      ]
     },
     "execution_count": 7,
     "metadata": {},
     "output_type": "execute_result"
    }
   ],
   "source": [
    "ordinal_encoder = OrdinalEncoder()\n",
    "housing_cat_encoded = ordinal_encoder.fit_transform(housing_cat)\n",
    "print(housing_cat_encoded[:10])\n",
    "housing_cat_encoded.shape"
   ]
  },
  {
   "cell_type": "code",
   "execution_count": 8,
   "metadata": {},
   "outputs": [
    {
     "data": {
      "text/plain": [
       "[array(['<1H OCEAN', 'INLAND', 'ISLAND', 'NEAR BAY', 'NEAR OCEAN'],\n",
       "       dtype=object)]"
      ]
     },
     "execution_count": 8,
     "metadata": {},
     "output_type": "execute_result"
    }
   ],
   "source": [
    "# Anzeige aktueller Ordinal-Encoder Reihenfolge\n",
    "ordinal_encoder.categories_"
   ]
  },
  {
   "cell_type": "markdown",
   "metadata": {},
   "source": [
    "# One Hot Encoding\n",
    "Im gegensatz zum Ordinal-Encoder werden beim OHE aus einer Spalte mit M Unique Values = Ausprägungen M Spalten. Hier zunächst die Basic Funktionen die im Kontext von OHE von Bedeutung sind."
   ]
  },
  {
   "cell_type": "code",
   "execution_count": 9,
   "metadata": {},
   "outputs": [
    {
     "name": "stdout",
     "output_type": "stream",
     "text": [
      "[[0. 0. 0. 1. 0.]\n",
      " [0. 0. 0. 1. 0.]\n",
      " [0. 0. 0. 1. 0.]\n",
      " ...\n",
      " [0. 1. 0. 0. 0.]\n",
      " [0. 1. 0. 0. 0.]\n",
      " [0. 1. 0. 0. 0.]]\n"
     ]
    }
   ],
   "source": [
    "try:\n",
    "    from sklearn.preprocessing import OrdinalEncoder # just to raise an ImportError if Scikit-Learn < 0.20\n",
    "    from sklearn.preprocessing import OneHotEncoder\n",
    "except ImportError:\n",
    "    from future_encoders import OneHotEncoder # Scikit-Learn < 0.20\n",
    "# Vorarbeit fürs verständins\n",
    "cat_encoder = OneHotEncoder(sparse=False)\n",
    "housing_cat_1hot = cat_encoder.fit_transform(housing_cat)\n",
    "print(housing_cat_1hot)\n"
   ]
  },
  {
   "cell_type": "code",
   "execution_count": 10,
   "metadata": {},
   "outputs": [
    {
     "name": "stdout",
     "output_type": "stream",
     "text": [
      "5\n",
      "(20640, 1)\n",
      "(20640, 5)\n",
      "<class 'pandas.core.frame.DataFrame'>\n",
      "<class 'numpy.ndarray'>\n",
      "[array(['<1H OCEAN', 'INLAND', 'ISLAND', 'NEAR BAY', 'NEAR OCEAN'],\n",
      "      dtype=object)]\n"
     ]
    }
   ],
   "source": [
    "print(len(housing_cat.ocean_proximity.unique()))\n",
    "print(housing_cat.shape)\n",
    "print(housing_cat_1hot.shape)\n",
    "print(type(housing_cat))\n",
    "print(type(housing_cat_1hot))\n",
    "print(cat_encoder.categories_)"
   ]
  },
  {
   "cell_type": "code",
   "execution_count": 11,
   "metadata": {},
   "outputs": [
    {
     "data": {
      "text/plain": [
       "[array(['<1H OCEAN', 'INLAND', 'ISLAND', 'NEAR BAY', 'NEAR OCEAN'],\n",
       "       dtype=object)]"
      ]
     },
     "execution_count": 11,
     "metadata": {},
     "output_type": "execute_result"
    }
   ],
   "source": [
    "cat_encoder.categories_"
   ]
  },
  {
   "cell_type": "code",
   "execution_count": 12,
   "metadata": {},
   "outputs": [
    {
     "name": "stdout",
     "output_type": "stream",
     "text": [
      "(20640, 10)\n",
      "(20640, 5)\n"
     ]
    }
   ],
   "source": [
    "print(housing.shape)\n",
    "print(housing_cat_1hot.shape)\n"
   ]
  },
  {
   "cell_type": "code",
   "execution_count": 13,
   "metadata": {},
   "outputs": [
    {
     "name": "stdout",
     "output_type": "stream",
     "text": [
      "[['<1H OCEAN']]\n",
      "[['INLAND']]\n",
      "[['ISLAND']]\n",
      "[['NEAR BAY']]\n",
      "[['NEAR OCEAN']]\n"
     ]
    }
   ],
   "source": [
    "# Inverse Transform\n",
    "print(cat_encoder.inverse_transform([[1, 0, 0, 0, 0]]))\n",
    "print(cat_encoder.inverse_transform([[0, 1, 0, 0, 0]]))\n",
    "print(cat_encoder.inverse_transform([[0, 0, 1, 0, 0]]))\n",
    "print(cat_encoder.inverse_transform([[0, 0, 0, 1, 0]]))\n",
    "print(cat_encoder.inverse_transform([[0, 0, 0, 0, 1]]))"
   ]
  },
  {
   "cell_type": "code",
   "execution_count": 14,
   "metadata": {},
   "outputs": [
    {
     "name": "stdout",
     "output_type": "stream",
     "text": [
      "Index(['ocean_proximity'], dtype='object')\n"
     ]
    },
    {
     "data": {
      "text/plain": [
       "array(['ocean_proximity_<1H OCEAN', 'ocean_proximity_INLAND',\n",
       "       'ocean_proximity_ISLAND', 'ocean_proximity_NEAR BAY',\n",
       "       'ocean_proximity_NEAR OCEAN'], dtype=object)"
      ]
     },
     "execution_count": 14,
     "metadata": {},
     "output_type": "execute_result"
    }
   ],
   "source": [
    "print(housing_cat.columns)\n",
    "cat_encoder.get_feature_names(['ocean_proximity'])"
   ]
  },
  {
   "cell_type": "markdown",
   "metadata": {},
   "source": [
    "# OHE auf das Dataframe angewendet"
   ]
  },
  {
   "cell_type": "code",
   "execution_count": 15,
   "metadata": {},
   "outputs": [
    {
     "name": "stdout",
     "output_type": "stream",
     "text": [
      "(20640, 10)\n",
      "(20640, 9)\n"
     ]
    }
   ],
   "source": [
    "print(housing.shape)\n",
    "housing_cat = housing[['ocean_proximity']]\n",
    "housing = housing.drop(\"ocean_proximity\", axis=1)  \n",
    "print(housing.shape)"
   ]
  },
  {
   "cell_type": "code",
   "execution_count": 29,
   "metadata": {},
   "outputs": [
    {
     "name": "stdout",
     "output_type": "stream",
     "text": [
      "(20640, 14)\n"
     ]
    },
    {
     "data": {
      "text/plain": [
       "'\\nprint(housing.shape)\\nprint(partOHEdf.shape)\\nprint(partOHEdf)\\nprint(type(housing_ocean_proximity_cat_1hot))\\nprint(housing_ocean_proximity_cat_1hot.shape)\\n'"
      ]
     },
     "execution_count": 29,
     "metadata": {},
     "output_type": "execute_result"
    }
   ],
   "source": [
    "cat_encoder = OneHotEncoder(sparse=False)\n",
    "housing_ocean_proximity_cat_1hot = cat_encoder.fit_transform(housing_cat)\n",
    "titles = cat_encoder.get_feature_names(['ocean_proximity'])\n",
    "partOHEdf = pd.DataFrame(housing_ocean_proximity_cat_1hot, columns=titles)\n",
    "housingDF = pd.concat([housing,partOHEdf],axis=1)\n",
    "\n",
    "print(housingDF.shape)\n",
    "'''\n",
    "print(housing.shape)\n",
    "print(partOHEdf.shape)\n",
    "print(partOHEdf)\n",
    "print(type(housing_ocean_proximity_cat_1hot))\n",
    "print(housing_ocean_proximity_cat_1hot.shape)\n",
    "'''"
   ]
  }
 ],
 "metadata": {
  "kernelspec": {
   "display_name": "Python 3",
   "language": "python",
   "name": "python3"
  },
  "language_info": {
   "codemirror_mode": {
    "name": "ipython",
    "version": 3
   },
   "file_extension": ".py",
   "mimetype": "text/x-python",
   "name": "python",
   "nbconvert_exporter": "python",
   "pygments_lexer": "ipython3",
   "version": "3.8.3"
  }
 },
 "nbformat": 4,
 "nbformat_minor": 4
}
