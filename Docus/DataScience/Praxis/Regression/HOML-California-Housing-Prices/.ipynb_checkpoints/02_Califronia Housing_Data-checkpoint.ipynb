{
 "cells": [
  {
   "cell_type": "markdown",
   "metadata": {},
   "source": [
    "'''''\n",
    "{\n",
    "\"title\": \"California-Housing-Notebook-Data\",\n",
    "\"keywords\": \"Regression, Big-Picture, \",\n",
    "\"categories\": \"\",\n",
    "\"description\": \"Hier geht es um die individuelle Abarbeitung der Checkliste Data im Kontext der California-Housing Problematik\",\n",
    "\"level\": \"20\",\n",
    "\"pageID\": \"14112020-10-California-Housing\"\n",
    "}\n",
    "'''''"
   ]
  },
  {
   "cell_type": "markdown",
   "metadata": {},
   "source": [
    "<center><h1>California Housing <br> Data-Checkliste</h1></center>\n",
    "\n",
    "![](imgs/2020-11-14-21-31-19.png)\n",
    "\n",
    "In diesem Notebook wird die [Data-Checkliste](15112020-DataChecklist) im Kontext des California-Housing Problem abgeabreitet. \n"
   ]
  },
  {
   "cell_type": "markdown",
   "metadata": {},
   "source": []
  },
  {
   "cell_type": "markdown",
   "metadata": {},
   "source": [
    "1. [Business-Objectives](07112020200718-BusinessObjectives)"
   ]
  },
  {
   "cell_type": "code",
   "execution_count": null,
   "metadata": {},
   "outputs": [],
   "source": []
  },
  {
   "cell_type": "code",
   "execution_count": null,
   "metadata": {},
   "outputs": [],
   "source": []
  },
  {
   "cell_type": "code",
   "execution_count": null,
   "metadata": {},
   "outputs": [],
   "source": []
  },
  {
   "cell_type": "code",
   "execution_count": null,
   "metadata": {},
   "outputs": [],
   "source": []
  }
 ],
 "metadata": {
  "kernelspec": {
   "display_name": "Python 3",
   "language": "python",
   "name": "python3"
  },
  "language_info": {
   "codemirror_mode": {
    "name": "ipython",
    "version": 3
   },
   "file_extension": ".py",
   "mimetype": "text/x-python",
   "name": "python",
   "nbconvert_exporter": "python",
   "pygments_lexer": "ipython3",
   "version": "3.8.3"
  }
 },
 "nbformat": 4,
 "nbformat_minor": 4
}
