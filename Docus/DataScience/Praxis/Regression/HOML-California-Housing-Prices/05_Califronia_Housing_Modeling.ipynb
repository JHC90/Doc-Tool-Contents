{
 "cells": [
  {
   "cell_type": "markdown",
   "metadata": {},
   "source": [
    "'''''\n",
    "{\n",
    "\"title\": \"Data-Modelling-Checklist\",\n",
    "\"keywords\": \"DataPreprocessing, \",\n",
    "\"categories\": \"\",\n",
    "\"description\": \"Hier geht es um die individuelle Abarbeitung der <em>EDA</em>-Checkliste im Kontext der California-Housing Problematik\",\n",
    "\"level\": \"50\",\n",
    "\"pageID\": \"16112020-10-California-Housing-Data-Preprocessing-Checklist\"\n",
    "}\n",
    "'''''"
   ]
  },
  {
   "cell_type": "markdown",
   "metadata": {},
   "source": [
    "<center><h1>California Housing <br>Data Modeling<br>&<br>Fine Tuning</h1></center>\n",
    "\n",
    "![](imgs/2020-11-14-21-31-19.png)\n",
    "\n",
    "# Vorgelagerte Ausarbeitungen\n",
    "- [1. Big-Picture](14112020-10-California-Housing-BigPicture)<br>\n",
    "- [2. Data-Management](14112020-10-California-Housing-Data)<br>\n",
    "- [3. EDA](16112020-10-California-Housing-EDA)<br>\n",
    "- [4. Data-Preprocessing](16112020-10-California-Housing-Data-Preprocessing-Checklist)<br>\n",
    "\n",
    "# [Algorithm-Modeling](19112020-ShortListModels)\n",
    "\n",
    "In diesem Notebook wird die [First-Algorithms-Checkliste](19112020-ShortListModels) im Kontext des California-Housing Problem abgeabreitet. Bei dieser Checkliste geht es darum, erstmalig Algorithmen anzuwenden und deren Performance grunlegend zu prüfen.\n",
    "\n",
    "# [Algorithm-Fine-Tuning]()\n",
    "Diese Notebook arbeitet zeitlgeich die [Fine-Tuning-Checkliste](14112020-10-California-Housing-Data) ab. Es ist erheblich hantlicher bei der Modelierung in einem Notebook zu bleibe. Es wäre zwar grundsätzlich möglich die trainierten Algorithmen zu speichern un in anderen Notebooks wieder zu öffnen, jedoch ist es komfortabler in einem Notebook hierbei zu arbeiten.\n",
    "\n",
    "# Laden der Daten\n",
    "Die Daten wurden bereits im vorherigen [Notebook - California Housing Priceses Data](14112020-10-California-Housing-Data) gesplittet und persistent auf der Festplatte gespeichert. Somit müssen diese Daten in diesem Notebook zunächst geladen werden. Die Funktion Daten-Laden wurde in diesem Notebook der übersichtlichkeit wegen ebenfalls ausgelagert.\n",
    "\n"
   ]
  },
  {
   "cell_type": "code",
   "execution_count": 1,
   "metadata": {},
   "outputs": [
    {
     "name": "stdout",
     "output_type": "stream",
     "text": [
      ".\\images\\end_to_end_project\n"
     ]
    }
   ],
   "source": [
    "# To support both python 2 and python 3\n",
    "\n",
    "import os\n",
    "import tarfile\n",
    "from six.moves import urllib\n",
    "import pandas as pd\n",
    "import numpy as np\n",
    "\n",
    "import FunctionFileCalifornia as ffc\n",
    "\n",
    "%matplotlib inline\n",
    "import matplotlib as mpl\n",
    "import matplotlib.pyplot as plt\n",
    "\n",
    "# Basic Variables\n",
    "DOWNLOAD_ROOT = \"https://raw.githubusercontent.com/ageron/handson-ml/master/\"\n",
    "HOUSING_PATH = os.path.join(\"datasets\", \"housing\")\n",
    "HOUSING_URL = DOWNLOAD_ROOT + \"datasets/housing/housing.tgz\"\n",
    "PROJECT_ROOT_DIR = \".\"\n",
    "CHAPTER_ID = \"end_to_end_project\"\n",
    "IMAGES_PATH = os.path.join(PROJECT_ROOT_DIR, \"images\", CHAPTER_ID)"
   ]
  },
  {
   "cell_type": "code",
   "execution_count": 2,
   "metadata": {},
   "outputs": [
    {
     "name": "stdout",
     "output_type": "stream",
     "text": [
      "(16512, 17)\n",
      "(16512, 1)\n",
      "(4128, 17)\n",
      "(4128, 1)\n"
     ]
    },
    {
     "data": {
      "text/plain": [
       "'\\nprint(train_set.head())\\nprint(train_labels.head())\\nprint(test_set.head())\\nprint(test_labels.head())\\n'"
      ]
     },
     "execution_count": 2,
     "metadata": {},
     "output_type": "execute_result"
    }
   ],
   "source": [
    "# Laden der Daten und adaptieren des Indexes\n",
    "train_set = ffc.load_housing_data(filename=\"train-prepared-Feature.csv\")\n",
    "train_set = train_set.set_index('index')\n",
    "\n",
    "train_labels = ffc.load_housing_data(filename=\"train-prepared-Labels.csv\")\n",
    "train_labels = train_labels.set_index('index')\n",
    "\n",
    "test_set = ffc.load_housing_data(filename=\"test-prepared-Feature.csv\")\n",
    "test_set = test_set.set_index('index')\n",
    "\n",
    "test_labels = ffc.load_housing_data(filename=\"test-prepared-Labels.csv\")\n",
    "test_labels = test_labels.set_index('index')\n",
    "\n",
    "\n",
    "print(train_set.shape)\n",
    "print(train_labels.shape)\n",
    "print(test_set.shape)\n",
    "print(test_labels.shape)\n",
    "'''\n",
    "print(train_set.head())\n",
    "print(train_labels.head())\n",
    "print(test_set.head())\n",
    "print(test_labels.head())\n",
    "'''"
   ]
  },
  {
   "cell_type": "code",
   "execution_count": 3,
   "metadata": {},
   "outputs": [],
   "source": [
    "from sklearn.metrics import mean_squared_error, r2_score, accuracy_score, median_absolute_error\n",
    "\n",
    "def calculate_performance(prediction, actual, scaler):\n",
    "    p = scaler.inverse_transform(prediction.reshape(-1,1))\n",
    "    a = scaler.inverse_transform(actual.reshape(-1,1))\n",
    "    mse = mean_squared_error(p, a)\n",
    "    err = np.sqrt(mse)\n",
    "    r2 = r2_score(a, p)\n",
    "    mae = median_absolute_error(p, a)\n",
    "    \n",
    "    return (mse, err, r2, mae)\n",
    "\n",
    "def print_performance(measure_tuple):\n",
    "    \n",
    "    mse = measure_tuple[0]\n",
    "    err = measure_tuple[1]\n",
    "    r2 = measure_tuple[2]\n",
    "    mae = measure_tuple[3]\n",
    "    \n",
    "    print(\"Mean squared error is {}\".format(str(mse)))\n",
    "    print(\"Positive mean error is {}\".format(str(err)))\n",
    "    print(\"Overall R² is {}\".format(str(r2)))\n",
    "    print(\"Median absolute error is {}\".format(str(mae)))"
   ]
  },
  {
   "cell_type": "markdown",
   "metadata": {},
   "source": [
    "# Train Model"
   ]
  },
  {
   "cell_type": "code",
   "execution_count": 4,
   "metadata": {},
   "outputs": [
    {
     "name": "stdout",
     "output_type": "stream",
     "text": [
      "<class 'list'>\n"
     ]
    }
   ],
   "source": [
    "# Liste der Performance-Vergleiche\n",
    "resultList = []\n",
    "print(type(resultList))"
   ]
  },
  {
   "cell_type": "markdown",
   "metadata": {},
   "source": [
    "## Lineare Regression"
   ]
  },
  {
   "cell_type": "code",
   "execution_count": 5,
   "metadata": {},
   "outputs": [
    {
     "data": {
      "text/plain": [
       "0.6576014402233354"
      ]
     },
     "execution_count": 5,
     "metadata": {},
     "output_type": "execute_result"
    }
   ],
   "source": [
    "# Die folgenden 3 Zeilen genügen um ein Model zu erstellen und zu trainieren\n",
    "from sklearn.linear_model import LinearRegression\n",
    "lin_reg = LinearRegression()\n",
    "lin_reg.fit(train_set, train_labels)\n",
    "lin_reg.score(test_set, test_labels)\n"
   ]
  },
  {
   "cell_type": "code",
   "execution_count": null,
   "metadata": {},
   "outputs": [],
   "source": []
  },
  {
   "cell_type": "raw",
   "metadata": {},
   "source": [
    "# FeatureImportance\n",
    "importance = lin_reg.coef_\n",
    "featureImportance = []\n",
    "for i in range(0, len(importance[0]),1):\n",
    "    feature = train_set.columns[i]\n",
    "    specificImportance = importance[0][i]\n",
    "    featureImportance.append([feature, specificImportance])\n",
    "    #print(feature, specificImportance)   \n",
    "print(featureImportance)"
   ]
  },
  {
   "cell_type": "code",
   "execution_count": 6,
   "metadata": {},
   "outputs": [
    {
     "name": "stdout",
     "output_type": "stream",
     "text": [
      "Predictions: [array([203840.]), array([326528.]), array([204544.]), array([58304.]), array([194240.])]\n",
      "Wahre Werte: ['median_house_value']\n"
     ]
    }
   ],
   "source": [
    "# test einer möglichen Prediction, das dient nur der Veranschaulichung\n",
    "some_data = train_set.iloc[:5]\n",
    "some_true_labels = train_labels.iloc[:5]\n",
    "some_predictions = lin_reg.predict(some_data)\n",
    "\n",
    "print(\"Predictions:\", list(some_predictions))\n",
    "print(\"Wahre Werte:\", list(some_true_labels))"
   ]
  },
  {
   "cell_type": "code",
   "execution_count": 7,
   "metadata": {},
   "outputs": [],
   "source": [
    "# Performance Measure OLS"
   ]
  },
  {
   "cell_type": "code",
   "execution_count": 8,
   "metadata": {},
   "outputs": [],
   "source": [
    "housing_predictions_ols = lin_reg.predict(test_set)"
   ]
  },
  {
   "cell_type": "code",
   "execution_count": 9,
   "metadata": {},
   "outputs": [
    {
     "name": "stdout",
     "output_type": "stream",
     "text": [
      "49483.498062015504\n"
     ]
    }
   ],
   "source": [
    "from sklearn.metrics import mean_absolute_error\n",
    "lin_mae = mean_absolute_error(test_labels, housing_predictions_ols)\n",
    "print(lin_mae)"
   ]
  },
  {
   "cell_type": "code",
   "execution_count": 10,
   "metadata": {},
   "outputs": [
    {
     "name": "stdout",
     "output_type": "stream",
     "text": [
      "4462015589.36531\n"
     ]
    }
   ],
   "source": [
    "## MSE\n",
    "from sklearn.metrics import mean_squared_error\n",
    "lin_mse = mean_squared_error(test_labels, housing_predictions_ols)\n",
    "print(lin_mse)"
   ]
  },
  {
   "cell_type": "code",
   "execution_count": 11,
   "metadata": {},
   "outputs": [
    {
     "name": "stdout",
     "output_type": "stream",
     "text": [
      "66798.32025856122\n"
     ]
    }
   ],
   "source": [
    "## RMSE\n",
    "lin_rmse = np.sqrt(lin_mse)\n",
    "print(lin_rmse)"
   ]
  },
  {
   "cell_type": "code",
   "execution_count": 12,
   "metadata": {},
   "outputs": [],
   "source": [
    "#listEnty = [\"OLS\", lin_mae, lin_mse, lin_rmse, featureImportance]\n",
    "listEnty = [\"OLS\", lin_mae, lin_mse, lin_rmse]\n",
    "resultList.append(listEnty)"
   ]
  },
  {
   "cell_type": "markdown",
   "metadata": {},
   "source": [
    "##  Polynomiale Regression"
   ]
  },
  {
   "cell_type": "code",
   "execution_count": 33,
   "metadata": {},
   "outputs": [
    {
     "name": "stdout",
     "output_type": "stream",
     "text": [
      "18\n"
     ]
    }
   ],
   "source": [
    "from sklearn.preprocessing import PolynomialFeatures\n",
    "\n",
    "polynomial_feature_extractor = PolynomialFeatures(degree=1)\n",
    "polynomial_feature_extractor.fit(train_set, train_labels)\n",
    "\n",
    "poly_train_data_X = polynomial_feature_extractor.transform(train_set)\n",
    "poly_test_data_X = polynomial_feature_extractor.transform(test_set)\n",
    "\n",
    "poly_regressor = LinearRegression()\n",
    "poly_regressor.fit(poly_train_data_X, train_labels)\n",
    "\n",
    "poly_predicted_y = poly_regressor.predict(poly_test_data_X)\n",
    "\n",
    "poly_mae = mean_absolute_error(test_labels, poly_predicted_y)\n",
    "poly_mse = mean_squared_error(test_labels, poly_predicted_y)\n",
    "poly_rmse = np.sqrt(poly_mse)\n",
    "\n",
    "#print(poly_mae)\n",
    "#print(poly_mse)\n",
    "#print(poly_rmse)\n",
    "\n",
    "importance = poly_regressor.coef_\n",
    "print(len(importance[0]))"
   ]
  },
  {
   "cell_type": "code",
   "execution_count": 14,
   "metadata": {},
   "outputs": [],
   "source": [
    "'''featureImportance = []\n",
    "for i in range(0, len(importance[0]),1):\n",
    "    feature = train_set.columns[i]\n",
    "    specificImportance = importance[0][i]\n",
    "    featureImportance.append([feature, specificImportance])\n",
    "    #print(feature, specificImportance)   \n",
    "print(featureImportance)\n",
    "'''\n",
    "\n",
    "listEnty = [\"Poly-Reg\", poly_mae, poly_mse, poly_rmse]\n",
    "resultList.append(listEnty)"
   ]
  },
  {
   "cell_type": "markdown",
   "metadata": {},
   "source": [
    "## Lasso Regression"
   ]
  },
  {
   "cell_type": "code",
   "execution_count": 15,
   "metadata": {},
   "outputs": [
    {
     "name": "stderr",
     "output_type": "stream",
     "text": [
      "C:\\Users\\1810837475\\Anaconda3\\lib\\site-packages\\sklearn\\linear_model\\_coordinate_descent.py:529: ConvergenceWarning: Objective did not converge. You might want to increase the number of iterations. Duality gap: 6340902440107.633, tolerance: 22103585513.765118\n",
      "  model = cd_fast.enet_coordinate_descent(\n"
     ]
    },
    {
     "data": {
      "text/plain": [
       "Lasso(alpha=0.01)"
      ]
     },
     "execution_count": 15,
     "metadata": {},
     "output_type": "execute_result"
    }
   ],
   "source": [
    "from sklearn.linear_model import Lasso\n",
    "\n",
    "# small alpha --> little restriction on coefficients\n",
    "lasso_regressor = Lasso(alpha=0.01, max_iter=1000)\n",
    "lasso_regressor.fit(train_set, train_labels)"
   ]
  },
  {
   "cell_type": "code",
   "execution_count": 16,
   "metadata": {},
   "outputs": [],
   "source": [
    "lasso_predicted_y = lasso_regressor.predict(test_set)"
   ]
  },
  {
   "cell_type": "code",
   "execution_count": 17,
   "metadata": {},
   "outputs": [],
   "source": [
    "lasso_mae = mean_absolute_error(test_labels, lasso_predicted_y)\n",
    "lasso_mse = mean_squared_error(test_labels, lasso_predicted_y)\n",
    "lasso_rmse = np.sqrt(lasso_mse)\n"
   ]
  },
  {
   "cell_type": "code",
   "execution_count": null,
   "metadata": {},
   "outputs": [],
   "source": [
    "\n"
   ]
  },
  {
   "cell_type": "code",
   "execution_count": 18,
   "metadata": {},
   "outputs": [],
   "source": [
    "# Feature Importance\n",
    "featureImportance = []\n",
    "importance = lasso_regressor.coef_\n",
    "for i in range(0, len(importance),1):\n",
    "    feature = train_set.columns[i]\n",
    "    specificImportance = importance[i]\n",
    "    featureImportance.append([feature, specificImportance])\n",
    "    #print(feature, specificImportance)   \n",
    "\n",
    "#listEnty = [\"Poly-Reg\", poly_mae, poly_mse, poly_rmse, featureImportance]\n",
    "listEnty = [\"Poly-Reg\", poly_mae, poly_mse, poly_rmse]\n",
    "resultList.append(listEnty)"
   ]
  },
  {
   "cell_type": "code",
   "execution_count": 19,
   "metadata": {},
   "outputs": [
    {
     "name": "stdout",
     "output_type": "stream",
     "text": [
      "49458.05475606995\n",
      "4461389041.578401\n",
      "66793.63024704078\n"
     ]
    }
   ],
   "source": [
    "print(lasso_mae)\n",
    "print(lasso_mse)\n",
    "print(lasso_rmse)\n",
    "\n",
    "listEnty = [\"Lasso-Reg\", lasso_mae, lasso_mse, lasso_rmse]\n",
    "resultList.append(listEnty)"
   ]
  },
  {
   "cell_type": "markdown",
   "metadata": {},
   "source": [
    "## Regression-Decision-Tree"
   ]
  },
  {
   "cell_type": "code",
   "execution_count": 20,
   "metadata": {},
   "outputs": [
    {
     "name": "stdout",
     "output_type": "stream",
     "text": [
      "75607.39583333333\n",
      "12277961800.540213\n",
      "110805.96464333593\n"
     ]
    }
   ],
   "source": [
    "from sklearn.tree import DecisionTreeRegressor\n",
    "\n",
    "tree_reg = DecisionTreeRegressor(random_state=42)\n",
    "tree_reg.fit(train_set, train_labels)\n",
    "\n",
    "housing_predictions_dtr = tree_reg.predict(test_set)\n",
    "#print(housing_predictions_dtr)\n",
    "#print(test_labels)\n",
    "\n",
    "tree_mae = mean_absolute_error(test_labels, housing_predictions_dtr)\n",
    "tree_mse = mean_squared_error(test_labels, housing_predictions_dtr)\n",
    "tree_rmse = np.sqrt(tree_mse)\n",
    "\n",
    "\n",
    "print(tree_mae)\n",
    "print(tree_mse)\n",
    "print(tree_rmse)"
   ]
  },
  {
   "cell_type": "code",
   "execution_count": null,
   "metadata": {},
   "outputs": [],
   "source": []
  },
  {
   "cell_type": "code",
   "execution_count": 21,
   "metadata": {},
   "outputs": [],
   "source": [
    "# Feature Importance\n",
    "featureImportance = []\n",
    "importance = tree_reg.feature_importances_\n",
    "#print(importance)\n",
    "#print(len(importance))\n",
    "for i in range(0, len(importance),1):\n",
    "    feature = train_set.columns[i]\n",
    "    specificImportance = importance[i]\n",
    "    featureImportance.append([feature, specificImportance])\n",
    "#listEnty = [\"RegTree\", tree_mae, tree_mse, tree_rmse, featureImportance]\n",
    "listEnty = [\"RegTree\", tree_mae, tree_mse, tree_rmse]\n",
    "resultList.append(listEnty)"
   ]
  },
  {
   "cell_type": "code",
   "execution_count": null,
   "metadata": {},
   "outputs": [],
   "source": []
  },
  {
   "cell_type": "markdown",
   "metadata": {},
   "source": [
    "## Random Forest"
   ]
  },
  {
   "cell_type": "code",
   "execution_count": 22,
   "metadata": {},
   "outputs": [
    {
     "name": "stderr",
     "output_type": "stream",
     "text": [
      "<ipython-input-22-6bfaa24301ce>:4: DataConversionWarning: A column-vector y was passed when a 1d array was expected. Please change the shape of y to (n_samples,), for example using ravel().\n",
      "  forest_reg.fit(train_set, train_labels)\n"
     ]
    },
    {
     "data": {
      "text/plain": [
       "RandomForestRegressor()"
      ]
     },
     "execution_count": 22,
     "metadata": {},
     "output_type": "execute_result"
    }
   ],
   "source": [
    "from sklearn.ensemble import RandomForestRegressor\n",
    "\n",
    "forest_reg = RandomForestRegressor(n_estimators=100)\n",
    "forest_reg.fit(train_set, train_labels)"
   ]
  },
  {
   "cell_type": "code",
   "execution_count": 23,
   "metadata": {},
   "outputs": [
    {
     "name": "stdout",
     "output_type": "stream",
     "text": [
      "56528.563829941864\n",
      "6167940977.204143\n",
      "78536.23989728655\n"
     ]
    }
   ],
   "source": [
    "forest_prediction = forest_reg.predict(test_set)\n",
    "\n",
    "RF_mae = mean_absolute_error(test_labels, forest_prediction)\n",
    "RF_mse = mean_squared_error(test_labels, forest_prediction)\n",
    "RF_rmse = np.sqrt(RF_mse)\n",
    "\n",
    "\n",
    "print(RF_mae)\n",
    "print(RF_mse)\n",
    "print(RF_rmse)"
   ]
  },
  {
   "cell_type": "code",
   "execution_count": 24,
   "metadata": {},
   "outputs": [],
   "source": [
    "# Feature Importance\n",
    "featureImportance = []\n",
    "importance = forest_reg.feature_importances_\n",
    "#print(importance)\n",
    "#print(len(importance))\n",
    "for i in range(0, len(importance),1):\n",
    "    feature = train_set.columns[i]\n",
    "    specificImportance = importance[i]\n",
    "    featureImportance.append([feature, specificImportance])\n",
    "#listEnty = [\"RegTree\", tree_mae, tree_mse, tree_rmse, featureImportance]\n",
    "listEnty = [\"RandForest\", RF_mae, RF_mse, RF_rmse]\n",
    "resultList.append(listEnty)"
   ]
  },
  {
   "cell_type": "code",
   "execution_count": 25,
   "metadata": {},
   "outputs": [
    {
     "name": "stdout",
     "output_type": "stream",
     "text": [
      "[['OLS', 49483.498062015504, 4462015589.36531, 66798.32025856122], ['Poly-Reg', 80954.39569223936, 66653273599.85989, 258172.95288209393], ['Poly-Reg', 80954.39569223936, 66653273599.85989, 258172.95288209393], ['Lasso-Reg', 49458.05475606995, 4461389041.578401, 66793.63024704078], ['RegTree', 75607.39583333333, 12277961800.540213, 110805.96464333593], ['RandForest', 56528.563829941864, 6167940977.204143, 78536.23989728655]]\n",
      "6\n"
     ]
    }
   ],
   "source": [
    "print(resultList)\n",
    "print(len(resultList))"
   ]
  },
  {
   "cell_type": "code",
   "execution_count": 34,
   "metadata": {},
   "outputs": [
    {
     "name": "stdout",
     "output_type": "stream",
     "text": [
      "                     MAE           MSE           RMSE\n",
      "Alg-Name                                             \n",
      "OLS         49483.498062  4.462016e+09   66798.320259\n",
      "Poly-Reg    80954.395692  6.665327e+10  258172.952882\n",
      "Poly-Reg    80954.395692  6.665327e+10  258172.952882\n",
      "Lasso-Reg   49458.054756  4.461389e+09   66793.630247\n",
      "RegTree     75607.395833  1.227796e+10  110805.964643\n",
      "RandForest  56528.563830  6.167941e+09   78536.239897\n"
     ]
    }
   ],
   "source": [
    "titles = [\"Alg-Name\", \"MAE\", \"MSE\", \"RMSE\"]\n",
    "performanceDF = pd.DataFrame(resultList, columns=titles)\n",
    "performanceDF = performanceDF.set_index('Alg-Name')\n",
    "print(performanceDF)"
   ]
  },
  {
   "cell_type": "code",
   "execution_count": 44,
   "metadata": {},
   "outputs": [
    {
     "data": {
      "text/plain": [
       "<matplotlib.legend.Legend at 0x1bd8b639af0>"
      ]
     },
     "execution_count": 44,
     "metadata": {},
     "output_type": "execute_result"
    },
    {
     "data": {
      "image/png": "[encoded data removed]",
      "text/plain": [
       "<Figure size 1080x720 with 3 Axes>"
      ]
     },
     "metadata": {
      "needs_background": "light"
     },
     "output_type": "display_data"
    }
   ],
   "source": [
    "axes = performanceDF.plot.bar(rot=0, subplots=True, figsize=(15,10))\n",
    "axes[1].legend(loc=2)\n"
   ]
  },
  {
   "cell_type": "markdown",
   "metadata": {},
   "source": [
    "## Ohrfeige-Funktion\n",
    "Mit der nachfolgenden Funktion versuchen wir "
   ]
  },
  {
   "cell_type": "code",
   "execution_count": null,
   "metadata": {},
   "outputs": [],
   "source": [
    "names = [\"OLS\",\n",
    "         \"Lasso\"\n",
    "        ]   # \"Linear SVM\",\n",
    "\n",
    "classifiers = [\n",
    "     LinearRegression(),\n",
    "    \n",
    "     ]"
   ]
  },
  {
   "cell_type": "markdown",
   "metadata": {},
   "source": [
    "# [Fine-Tuning]()"
   ]
  }
 ],
 "metadata": {
  "kernelspec": {
   "display_name": "Python 3",
   "language": "python",
   "name": "python3"
  },
  "language_info": {
   "codemirror_mode": {
    "name": "ipython",
    "version": 3
   },
   "file_extension": ".py",
   "mimetype": "text/x-python",
   "name": "python",
   "nbconvert_exporter": "python",
   "pygments_lexer": "ipython3",
   "version": "3.8.3"
  }
 },
 "nbformat": 4,
 "nbformat_minor": 4
}
