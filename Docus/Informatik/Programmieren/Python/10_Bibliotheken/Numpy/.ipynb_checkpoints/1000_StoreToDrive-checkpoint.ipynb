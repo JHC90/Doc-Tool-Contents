{
 "cells": [
  {
   "cell_type": "markdown",
   "metadata": {},
   "source": [
    "'''''\n",
    "{\n",
    "\"title\": \"Numpy - Read /Write to file\",\n",
    "\"keywords\": \"Numpy, \",\n",
    "\"categories\": \"\",\n",
    "\"description\": \"Hier geht es um die individuelle Abarbeitung der <em>EDA</em>-Checkliste im Kontext der California-Housing Problematik\",\n",
    "\"level\": \"30\",\n",
    "\"pageID\": \"19112020-NumpyReadWrite\"\n",
    "}\n",
    "'''''"
   ]
  },
  {
   "cell_type": "code",
   "execution_count": 12,
   "metadata": {},
   "outputs": [
    {
     "name": "stdout",
     "output_type": "stream",
     "text": [
      "(20640, 9)\n",
      "<class 'numpy.ndarray'>\n",
      "[[-1.2223e+02  3.7880e+01  4.1000e+01 ...  1.2600e+02  8.3252e+01\n",
      "   4.5260e+05]\n",
      " [-1.2222e+02  3.7860e+01  2.1000e+01 ...  1.1380e+03  8.3014e+01\n",
      "   3.5850e+05]\n",
      " [-1.2224e+02  3.7850e+01  5.2000e+01 ...  1.7700e+02  7.2574e+01\n",
      "   3.5210e+05]\n",
      " ...\n",
      " [-1.2122e+02  3.9430e+01  1.7000e+01 ...  4.3300e+02         nan\n",
      "   9.2300e+04]\n",
      " [-1.2132e+02  3.9430e+01  1.8000e+01 ...  3.4900e+02  1.8672e+01\n",
      "   8.4700e+04]\n",
      " [-1.2124e+02  3.9370e+01  1.6000e+01 ...  5.3000e+02  2.3886e+01\n",
      "   8.9400e+04]]\n"
     ]
    }
   ],
   "source": [
    "# Einlesen des Numpy Arrays von einer csv\n",
    "from numpy import genfromtxt\n",
    "my_data = genfromtxt('./Data/housing.csv', delimiter=';')\n",
    "print(my_data.shape)\n",
    "print(type(my_data))\n",
    "print(my_data)"
   ]
  },
  {
   "cell_type": "code",
   "execution_count": 16,
   "metadata": {},
   "outputs": [],
   "source": [
    "import numpy as np\n",
    "np.savetxt(\"./Data/SavedFileFromNumpy.csv\", my_data, delimiter=\";\")"
   ]
  },
  {
   "cell_type": "code",
   "execution_count": null,
   "metadata": {},
   "outputs": [],
   "source": []
  }
 ],
 "metadata": {
  "kernelspec": {
   "display_name": "Python 3",
   "language": "python",
   "name": "python3"
  },
  "language_info": {
   "codemirror_mode": {
    "name": "ipython",
    "version": 3
   },
   "file_extension": ".py",
   "mimetype": "text/x-python",
   "name": "python",
   "nbconvert_exporter": "python",
   "pygments_lexer": "ipython3",
   "version": "3.8.3"
  }
 },
 "nbformat": 4,
 "nbformat_minor": 4
}
