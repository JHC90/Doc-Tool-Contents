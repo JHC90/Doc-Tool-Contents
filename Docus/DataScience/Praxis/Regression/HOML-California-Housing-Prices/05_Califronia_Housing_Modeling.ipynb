{
 "cells": [
  {
   "cell_type": "markdown",
   "metadata": {},
   "source": [
    "'''''\n",
    "{\n",
    "\"title\": \"Data-Preprocessing-Checklist\",\n",
    "\"keywords\": \"DataPreprocessing, \",\n",
    "\"categories\": \"\",\n",
    "\"description\": \"Hier geht es um die individuelle Abarbeitung der <em>EDA</em>-Checkliste im Kontext der California-Housing Problematik\",\n",
    "\"level\": \"50\",\n",
    "\"pageID\": \"16112020-10-California-Housing-Data-Preprocessing-Checklist\"\n",
    "}\n",
    "'''''"
   ]
  },
  {
   "cell_type": "markdown",
   "metadata": {},
   "source": [
    "<center><h1>California Housing <br> Data Modeling</h1></center>\n",
    "\n",
    "![](imgs/2020-11-14-21-31-19.png)\n",
    "\n",
    "# Vorgelagerte Ausarbeitungen\n",
    "- [1. Big-Picture](14112020-10-California-Housing-BigPicture)<br>\n",
    "- [2. Data-Management](14112020-10-California-Housing-Data)<br>\n",
    "- [3. EDA](16112020-10-California-Housing-EDA)<br>\n",
    "- [4. Data-Preprocessing](16112020-10-California-Housing-Data-Preprocessing-Checklist)<br>\n",
    "\n",
    "# [Algorithm-Modeling]()\n",
    "\n",
    "In diesem Notebook wird die [First-Algorithms-Checkliste](19112020-ShortListModels) im Kontext des California-Housing Problem abgeabreitet. Bei dieser Checkliste geht es darum, erstmalig Algorithmen anzuwenden und deren Performance grunlegend zu prüfen.\n",
    "\n",
    "# Laden der Daten\n",
    "Die Daten wurden bereits im vorherigen [Notebook - California Housing Priceses Data](14112020-10-California-Housing-Data) gesplittet und persistent auf der Festplatte gespeichert. Somit müssen diese Daten in diesem Notebook zunächst geladen werden. Die Funktion Daten-Laden wurde in diesem Notebook der übersichtlichkeit wegen ebenfalls ausgelagert."
   ]
  },
  {
   "cell_type": "code",
   "execution_count": 1,
   "metadata": {},
   "outputs": [
    {
     "name": "stdout",
     "output_type": "stream",
     "text": [
      ".\\images\\end_to_end_project\n"
     ]
    }
   ],
   "source": [
    "# To support both python 2 and python 3\n",
    "\n",
    "import os\n",
    "import tarfile\n",
    "from six.moves import urllib\n",
    "import pandas as pd\n",
    "import numpy as np\n",
    "\n",
    "import FunctionFileCalifornia as ffc\n",
    "\n",
    "%matplotlib inline\n",
    "import matplotlib as mpl\n",
    "import matplotlib.pyplot as plt\n",
    "\n",
    "# Basic Variables\n",
    "DOWNLOAD_ROOT = \"https://raw.githubusercontent.com/ageron/handson-ml/master/\"\n",
    "HOUSING_PATH = os.path.join(\"datasets\", \"housing\")\n",
    "HOUSING_URL = DOWNLOAD_ROOT + \"datasets/housing/housing.tgz\"\n",
    "PROJECT_ROOT_DIR = \".\"\n",
    "CHAPTER_ID = \"end_to_end_project\"\n",
    "IMAGES_PATH = os.path.join(PROJECT_ROOT_DIR, \"images\", CHAPTER_ID)"
   ]
  },
  {
   "cell_type": "code",
   "execution_count": 17,
   "metadata": {},
   "outputs": [
    {
     "name": "stdout",
     "output_type": "stream",
     "text": [
      "(16512, 17)\n",
      "(16512, 1)\n",
      "(4128, 17)\n",
      "(4128, 1)\n"
     ]
    },
    {
     "data": {
      "text/plain": [
       "'\\nprint(train_set.head())\\nprint(train_labels.head())\\nprint(test_set.head())\\nprint(test_labels.head())\\n'"
      ]
     },
     "execution_count": 17,
     "metadata": {},
     "output_type": "execute_result"
    }
   ],
   "source": [
    "\n",
    "train_set = ffc.load_housing_data(filename=\"train-prepared-Feature.csv\")\n",
    "train_set = train_set.set_index('index')\n",
    "\n",
    "train_labels = ffc.load_housing_data(filename=\"train-prepared-Labels.csv\")\n",
    "train_labels = train_labels.set_index('index')\n",
    "\n",
    "test_set = ffc.load_housing_data(filename=\"test-prepared-Feature.csv\")\n",
    "test_set = test_set.set_index('index')\n",
    "\n",
    "test_labels = ffc.load_housing_data(filename=\"test-prepared-Labels.csv\")\n",
    "test_labels = test_labels.set_index('index')\n",
    "\n",
    "\n",
    "\n",
    "\n",
    "\n",
    "print(train_set.shape)\n",
    "print(train_labels.shape)\n",
    "print(test_set.shape)\n",
    "print(test_labels.shape)\n",
    "'''\n",
    "print(train_set.head())\n",
    "print(train_labels.head())\n",
    "print(test_set.head())\n",
    "print(test_labels.head())\n",
    "'''\n"
   ]
  },
  {
   "cell_type": "code",
   "execution_count": 16,
   "metadata": {},
   "outputs": [
    {
     "name": "stdout",
     "output_type": "stream",
     "text": [
      "       longitude  latitude  housing_median_age  total_rooms  total_bedrooms  \\\n",
      "index                                                                         \n",
      "17606  -1.156043  0.771950            0.743331    -0.493234       -0.445438   \n",
      "18632  -1.176025  0.659695           -1.165317    -0.908967       -1.036928   \n",
      "14650   1.186849 -1.342183            0.186642    -0.313660       -0.153345   \n",
      "3230   -0.017068  0.313576           -0.290520    -0.362762       -0.396756   \n",
      "3555    0.492474 -0.659299           -0.926736     1.856193        2.412211   \n",
      "\n",
      "       population  households  median_income  ocean_proximity  income_cat  \\\n",
      "index                                                                       \n",
      "17606   -0.636211   -0.420698      -0.614937        -0.954456   -0.312055   \n",
      "18632   -0.998331   -1.022227       1.336459         1.890305    0.217683   \n",
      "14650   -0.433639   -0.093318      -0.532046        -0.954456   -0.465315   \n",
      "3230     0.036041   -0.383436      -1.045566        -0.954456   -0.079661   \n",
      "3555     2.724154    2.570975      -0.441437        -0.006202   -0.357834   \n",
      "\n",
      "       rooms_per_household  population_per_household  \\\n",
      "index                                                  \n",
      "17606            -0.086499                  0.155318   \n",
      "18632            -0.033534                 -0.836289   \n",
      "14650            -0.092405                  0.422200   \n",
      "3230              0.089736                 -0.196453   \n",
      "3555             -0.004194                  0.269928   \n",
      "\n",
      "       ocean_proximity_<1H OCEAN  ocean_proximity_INLAND  \\\n",
      "index                                                      \n",
      "17606                        1.0                     0.0   \n",
      "18632                        1.0                     0.0   \n",
      "14650                        0.0                     0.0   \n",
      "3230                         0.0                     1.0   \n",
      "3555                         1.0                     0.0   \n",
      "\n",
      "       ocean_proximity_ISLAND  ocean_proximity_NEAR BAY  \\\n",
      "index                                                     \n",
      "17606                     0.0                       0.0   \n",
      "18632                     0.0                       0.0   \n",
      "14650                     0.0                       0.0   \n",
      "3230                      0.0                       0.0   \n",
      "3555                      0.0                       0.0   \n",
      "\n",
      "       ocean_proximity_NEAR OCEAN  \n",
      "index                              \n",
      "17606                         0.0  \n",
      "18632                         0.0  \n",
      "14650                         1.0  \n",
      "3230                          0.0  \n",
      "3555                          0.0  \n",
      "       median_house_value\n",
      "index                    \n",
      "17606            286600.0\n",
      "18632            340600.0\n",
      "14650            196900.0\n",
      "3230              46300.0\n",
      "3555             254500.0\n",
      "       longitude  latitude  housing_median_age  total_rooms  total_bedrooms  \\\n",
      "index                                                                         \n",
      "5241    0.574715 -0.696209            0.032860     1.602628        1.026552   \n",
      "10970   0.838394 -0.860742            0.824710     0.627178        0.236392   \n",
      "20351   0.246359 -0.653901           -0.125511     0.711592        0.836205   \n",
      "6568    0.694117 -0.658602            1.854116    -0.384511       -0.536062   \n",
      "13285   0.927946 -0.719714            0.270415    -0.389200       -0.518355   \n",
      "\n",
      "       population  households  median_income  ocean_proximity  income_cat  \\\n",
      "index                                                                       \n",
      "5241     0.614715    1.105510       2.357904         1.889419    0.730902   \n",
      "10970    0.184453    0.347308       0.404516         0.941264    0.551471   \n",
      "20351    0.552891    0.899397      -0.446556        -0.006891   -0.224920   \n",
      "6568    -0.359433   -0.459968       0.160083        -0.006891    0.089414   \n",
      "13285   -0.318495   -0.509043       0.099254        -0.006891    0.270989   \n",
      "\n",
      "       rooms_per_household  population_per_household  \\\n",
      "index                                                  \n",
      "5241             -0.437080                 -0.884208   \n",
      "10970            -0.254840                 -0.876204   \n",
      "20351            -0.352712                 -0.024967   \n",
      "6568              0.122418                 -0.662121   \n",
      "13285             0.356963                 -0.575998   \n",
      "\n",
      "       ocean_proximity_<1H OCEAN  ocean_proximity_INLAND  \\\n",
      "index                                                      \n",
      "5241                         1.0                     0.0   \n",
      "10970                        1.0                     0.0   \n",
      "20351                        1.0                     0.0   \n",
      "6568                         0.0                     1.0   \n",
      "13285                        0.0                     1.0   \n",
      "\n",
      "       ocean_proximity_ISLAND  ocean_proximity_NEAR BAY  \\\n",
      "index                                                     \n",
      "5241                      0.0                       0.0   \n",
      "10970                     0.0                       0.0   \n",
      "20351                     0.0                       0.0   \n",
      "6568                      0.0                       0.0   \n",
      "13285                     0.0                       0.0   \n",
      "\n",
      "       ocean_proximity_NEAR OCEAN  \n",
      "index                              \n",
      "5241                          0.0  \n",
      "10970                         0.0  \n",
      "20351                         0.0  \n",
      "6568                          0.0  \n",
      "13285                         0.0  \n",
      "       median_house_value\n",
      "index                    \n",
      "5241             500001.0\n",
      "10970            240300.0\n",
      "20351            218200.0\n",
      "6568             182100.0\n",
      "13285            121300.0\n"
     ]
    }
   ],
   "source": [
    "\n"
   ]
  }
 ],
 "metadata": {
  "kernelspec": {
   "display_name": "Python 3",
   "language": "python",
   "name": "python3"
  },
  "language_info": {
   "codemirror_mode": {
    "name": "ipython",
    "version": 3
   },
   "file_extension": ".py",
   "mimetype": "text/x-python",
   "name": "python",
   "nbconvert_exporter": "python",
   "pygments_lexer": "ipython3",
   "version": "3.8.3"
  }
 },
 "nbformat": 4,
 "nbformat_minor": 4
}
