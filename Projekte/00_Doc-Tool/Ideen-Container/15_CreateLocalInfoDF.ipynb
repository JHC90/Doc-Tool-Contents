{
 "metadata": {
  "language_info": {
   "codemirror_mode": {
    "name": "ipython",
    "version": 3
   },
   "file_extension": ".py",
   "mimetype": "text/x-python",
   "name": "python",
   "nbconvert_exporter": "python",
   "pygments_lexer": "ipython3",
   "version": "3.8.3-final"
  },
  "orig_nbformat": 2,
  "kernelspec": {
   "name": "python3",
   "display_name": "Python 3"
  }
 },
 "nbformat": 4,
 "nbformat_minor": 2,
 "cells": [
  {
   "cell_type": "code",
   "execution_count": null,
   "metadata": {},
   "outputs": [],
   "source": [
    "'''''\n",
    "{\n",
    "\"title\": \"15_CreateLocaInfoDF\",\n",
    "\"keywords\": \"15_CreateLocaInfoDF, CreateLocalInfo\",\n",
    "\"categories\": \"\",\n",
    "\"description\": \"Hier die Implementierungsnotizen zu der Erstellung der Info-Datei\",\n",
    "\"level\": \"120\",\n",
    "\"pageID\": \"07112020200718-15_CreateLocaInfoDF\"\n",
    "}\n",
    "'''''"
   ]
  },
  {
   "source": [
    "<h1>Erstellen einer lokalen Info-Datei</h1>\n",
    "\n",
    "Dev-ID: 15_CreateLocaInfoDF\n",
    "\n",
    "# Ziel \n",
    "Mit diesem Skript soll eine lokale Info-Datei im TXT Format enstehen, welche als weiter führende Grundlage für die bessere Struktuierung meiner Website dienen soll. Konkret soll ein Pandas-DF entstehen und lokal gespeichert werden welche folgende Informationen zu jedem HTML-File enthält:\n",
    "\n",
    "- [x]  File-ID\n",
    "- [x]  Absoluter Pfad lokal\n",
    "- [x]  Relativer Pfad Remote\n",
    "- [ ]  Remote-Adresse\n",
    "- [ ]  Liste aller Sections = Ordner\n",
    "- [ ]  Höchste-Sections = Ordner in welchem das File liegt\n",
    "- [ ]  Vorgelagerter Page-ID = File das im gleichen Ordner liegt aber ein kleineres Level hat\n",
    "- [ ]  nachgelagerte Page-ID = File das im gleichen Ordner liegt aber ein größeres Level hat\n",
    "- [x]  Liste aller manuell zugeordneten Kategorien != \n",
    "- [x]  Liste aller zugeordneten Tags\n",
    "\n",
    "\n",
    "\n",
    "\n",
    "{\n",
    "\"title\": \"JHC-Startseite\",\n",
    "\"keywords\": \"index, welcome\",\n",
    "\"categories\": \"index, welcome, nonDocu\",\n",
    "\"description\": \"Hier die individuelle Beschreibung der Index-Seite aus dem Frontmatter\",\n",
    "\"level\": \"00\",\n",
    "\"pageID\": \"07112020200718-Startseite\"\n",
    "}\n",
    "\n",
    "Vorbedingung\n",
    "- Es müssen die Content-Seiten mit einem Frame-Matter ausgestattet sein und dort müssen folgende Informationen \n",
    "    - gepflegt sein:\n",
    "        - pageID\n",
    "\n",
    "# Technologien\n",
    "- Python\n",
    "\n",
    "# Status der Idee\n",
    "- [x]  Die Iddee exisitiert & Die Ideenentwicklung wurde gestarte\n",
    "- [x]  Implementierung und die Technologie bekannt & dokumentiert\n",
    "- [ ]  Git Checkout-Developmentbranch \n",
    "- [ ]  Implementierung der Technologie in diesem Notebook\n",
    "- [ ]  Implementierung der Technologie in den Produktivbereich\n",
    "\n"
   ],
   "cell_type": "markdown",
   "metadata": {}
  },
  {
   "source": [
    "# Umsetzung\n",
    "Ich iterier hierbei durch das \"content\", da hierbei weniger Transfomrationen ausgeführt werden müssen und die resultierend Info dennoch gleich ist."
   ],
   "cell_type": "markdown",
   "metadata": {}
  },
  {
   "cell_type": "code",
   "execution_count": 10,
   "metadata": {},
   "outputs": [],
   "source": [
    "from glob import glob\n",
    "import os\n",
    "import shutil\n",
    "import sys\n",
    "from markdown2 import markdown \n",
    "import re\n",
    "import json\n",
    "from json import load\n",
    "import pandas as pd"
   ]
  },
  {
   "cell_type": "code",
   "execution_count": 3,
   "metadata": {
    "tags": []
   },
   "outputs": [],
   "source": [
    "ErrorMessage=\"\"\n",
    "dir_path = \"C:/DocTool/\"\n",
    "completeList = []\n",
    "for root, dirs, files in os.walk(dir_path+\"content/\"):\n",
    "    for file in files:\n",
    "        currentRow=[]\n",
    "        if file.endswith(\".md\"):\n",
    "            sourceAbsolute = (os.path.join(root, file)).replace(\"\\\\\", \"/\")\n",
    "            sourceRelative = sourceAbsolute.replace(\"C:/DocTool/content\", \"\")\n",
    "            with open(sourceAbsolute, encoding=\"utf8\") as markdown_file:\n",
    "                    article = markdown(\n",
    "                        markdown_file.read())\n",
    "                    \n",
    "                    metadata = {}\n",
    "                    if(\"'''''\" in article):\n",
    "                        splited = re.split(\"'''''\", article)\n",
    "                        metadata = (splited[1])\n",
    "                        metadata = metadata.replace(\"<p>\", \"\")\n",
    "                        metadata = metadata.replace(\"</p>\", \"\")\n",
    "                        metadata = metadata.strip()\n",
    "                        metadata=json.loads(metadata)\n",
    "                        article = splited[2]\n",
    "            try:\n",
    "                pageID=metadata[\"pageID\"]\n",
    "            except:\n",
    "                pageID=\"\"\n",
    "                ErrorMessage = ErrorMessage + \"Die Website: \\n\" + str(sourceAbsolute)+ \"\\nhat keine Page-ID \\n\\n\"\n",
    "            \n",
    "            try:\n",
    "                keywords=metadata[\"keywords\"]\n",
    "            except:\n",
    "                keywords=\"\"\n",
    "                ErrorMessage = ErrorMessage + \"Die Website: \\n\" + str(sourceAbsolute)+ \"\\nhat keine keywords \\n\\n\"\n",
    "\n",
    "            try:\n",
    "                categories=metadata[\"categories\"]\n",
    "            except:\n",
    "                categories=\"\"\n",
    "                ErrorMessage = ErrorMessage + \"Die Website: \\n\" + str(sourceAbsolute)+ \"\\nhat keine categories \\n\\n\"\n",
    "\n",
    "            try:\n",
    "                level=metadata[\"level\"]\n",
    "            except:\n",
    "                level=\"\"\n",
    "                ErrorMessage = ErrorMessage + \"Die Website: \\n\" + str(sourceAbsolute)+ \"\\nhat keine level \\n\\n\"\n",
    "\n",
    "            try:\n",
    "                description=metadata[\"description\"]\n",
    "            except:\n",
    "                description=\"\"\n",
    "                ErrorMessage = ErrorMessage + \"Die Website: \\n\" + str(sourceAbsolute)+ \"\\nhat keine description \\n\\n\"\n",
    "\n",
    "\n",
    "            currentRow.append(pageID)\n",
    "            currentRow.append(sourceAbsolute)\n",
    "            currentRow.append(sourceRelative)\n",
    "            currentRow.append(level)\n",
    "            completeList.append(currentRow)\n",
    "\n",
    "            # Ablegen in df\n",
    "\n",
    "file = open(\"./ErrorList-CreateLocalInfoFile.txt\", \"w\", encoding=\"utf-8\")\n",
    "file.write(ErrorMessage)\n",
    "file.close()"
   ]
  },
  {
   "cell_type": "code",
   "execution_count": null,
   "metadata": {},
   "outputs": [],
   "source": [
    "# Speicher DF als CV lokal"
   ]
  },
  {
   "cell_type": "code",
   "execution_count": 17,
   "metadata": {},
   "outputs": [
    {
     "output_type": "stream",
     "name": "stdout",
     "text": [
      "(151, 3)\n                      pageid                      fileNameAbsolut  \\\n0       07112020200718-About          C:/DocTool/content/about.md   \n1                             C:/DocTool/content/BeispielSeite.md   \n2  07112020200718-Startseite          C:/DocTool/content/index.md   \n\n    fileNameRelative  \n0          /about.md  \n1  /BeispielSeite.md  \n2          /index.md  \n(151, 3)\n"
     ]
    }
   ],
   "source": [
    "\n",
    "labels =[\"pageid\", \"fileNameAbsolut\", \"fileNameRelative\", \"level\", ]\n",
    "DF_MetaData = pd.DataFrame(data=completeList)\n",
    "DF_MetaData.columns=labels\n",
    "print(DF_MetaData.shape)\n",
    "print(DF_MetaData.head(3))\n",
    "print(DF_MetaData.shape)\n",
    "\n",
    "\n"
   ]
  },
  {
   "cell_type": "code",
   "execution_count": null,
   "metadata": {},
   "outputs": [],
   "source": []
  }
 ]
}