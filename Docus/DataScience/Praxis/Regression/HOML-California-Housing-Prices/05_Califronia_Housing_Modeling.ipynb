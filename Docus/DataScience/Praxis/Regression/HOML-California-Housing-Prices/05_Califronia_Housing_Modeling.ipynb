{
 "cells": [
  {
   "cell_type": "markdown",
   "metadata": {},
   "source": [
    "'''''\n",
    "{\n",
    "\"title\": \"Data-Modelling-Checklist\",\n",
    "\"keywords\": \"DataPreprocessing, \",\n",
    "\"categories\": \"\",\n",
    "\"description\": \"Hier geht es um die individuelle Abarbeitung der <em>EDA</em>-Checkliste im Kontext der California-Housing Problematik\",\n",
    "\"level\": \"50\",\n",
    "\"pageID\": \"16112020-10-California-Housing-Data-Preprocessing-Checklist\"\n",
    "}\n",
    "'''''"
   ]
  },
  {
   "cell_type": "markdown",
   "metadata": {},
   "source": [
    "<center><h1>California Housing <br>Data Modeling<br>&<br>Fine Tuning</h1></center>\n",
    "\n",
    "![](imgs/2020-11-14-21-31-19.png)\n",
    "\n",
    "# Vorgelagerte Ausarbeitungen\n",
    "- [1. Big-Picture](14112020-10-California-Housing-BigPicture)<br>\n",
    "- [2. Data-Management](14112020-10-California-Housing-Data)<br>\n",
    "- [3. EDA](16112020-10-California-Housing-EDA)<br>\n",
    "- [4. Data-Preprocessing](16112020-10-California-Housing-Data-Preprocessing-Checklist)<br>\n",
    "\n",
    "# [Algorithm-Modeling](19112020-ShortListModels)\n",
    "\n",
    "In diesem Notebook wird die [First-Algorithms-Checkliste](19112020-ShortListModels) im Kontext des California-Housing Problem abgeabreitet. Bei dieser Checkliste geht es darum, erstmalig Algorithmen anzuwenden und deren Performance grunlegend zu prüfen.\n",
    "\n",
    "# [Algorithm-Fine-Tuning]()\n",
    "Diese Notebook arbeitet zeitlgeich die [Fine-Tuning-Checkliste](14112020-10-California-Housing-Data) ab. Es ist erheblich hantlicher bei der Modelierung in einem Notebook zu bleibe. Es wäre zwar grundsätzlich möglich die trainierten Algorithmen zu speichern un in anderen Notebooks wieder zu öffnen, jedoch ist es komfortabler in einem Notebook hierbei zu arbeiten.\n",
    "\n",
    "# Laden der Daten\n",
    "Die Daten wurden bereits im vorherigen [Notebook - California Housing Priceses Data](14112020-10-California-Housing-Data) gesplittet und persistent auf der Festplatte gespeichert. Somit müssen diese Daten in diesem Notebook zunächst geladen werden. Die Funktion Daten-Laden wurde in diesem Notebook der übersichtlichkeit wegen ebenfalls ausgelagert.\n",
    "\n"
   ]
  },
  {
   "cell_type": "code",
   "execution_count": 1,
   "metadata": {},
   "outputs": [
    {
     "name": "stdout",
     "output_type": "stream",
     "text": [
      ".\\images\\end_to_end_project\n"
     ]
    }
   ],
   "source": [
    "# To support both python 2 and python 3\n",
    "\n",
    "import os\n",
    "import tarfile\n",
    "from six.moves import urllib\n",
    "import pandas as pd\n",
    "import numpy as np\n",
    "\n",
    "import FunctionFileCalifornia as ffc\n",
    "\n",
    "%matplotlib inline\n",
    "import matplotlib as mpl\n",
    "import matplotlib.pyplot as plt\n",
    "\n",
    "# Basic Variables\n",
    "DOWNLOAD_ROOT = \"https://raw.githubusercontent.com/ageron/handson-ml/master/\"\n",
    "HOUSING_PATH = os.path.join(\"datasets\", \"housing\")\n",
    "HOUSING_URL = DOWNLOAD_ROOT + \"datasets/housing/housing.tgz\"\n",
    "PROJECT_ROOT_DIR = \".\"\n",
    "CHAPTER_ID = \"end_to_end_project\"\n",
    "IMAGES_PATH = os.path.join(PROJECT_ROOT_DIR, \"images\", CHAPTER_ID)"
   ]
  },
  {
   "cell_type": "code",
   "execution_count": 2,
   "metadata": {},
   "outputs": [
    {
     "name": "stdout",
     "output_type": "stream",
     "text": [
      "(16512, 17)\n",
      "(16512, 1)\n",
      "(4128, 17)\n",
      "(4128, 1)\n"
     ]
    },
    {
     "data": {
      "text/plain": [
       "'\\nprint(train_set.head())\\nprint(train_labels.head())\\nprint(test_set.head())\\nprint(test_labels.head())\\n'"
      ]
     },
     "execution_count": 2,
     "metadata": {},
     "output_type": "execute_result"
    }
   ],
   "source": [
    "# Laden der Daten und adaptieren des Indexes\n",
    "train_set = ffc.load_housing_data(filename=\"train-prepared-Feature.csv\")\n",
    "train_set = train_set.set_index('index')\n",
    "\n",
    "train_labels = ffc.load_housing_data(filename=\"train-prepared-Labels.csv\")\n",
    "train_labels = train_labels.set_index('index')\n",
    "\n",
    "test_set = ffc.load_housing_data(filename=\"test-prepared-Feature.csv\")\n",
    "test_set = test_set.set_index('index')\n",
    "\n",
    "test_labels = ffc.load_housing_data(filename=\"test-prepared-Labels.csv\")\n",
    "test_labels = test_labels.set_index('index')\n",
    "\n",
    "\n",
    "print(train_set.shape)\n",
    "print(train_labels.shape)\n",
    "print(test_set.shape)\n",
    "print(test_labels.shape)\n",
    "'''\n",
    "print(train_set.head())\n",
    "print(train_labels.head())\n",
    "print(test_set.head())\n",
    "print(test_labels.head())\n",
    "'''"
   ]
  },
  {
   "cell_type": "code",
   "execution_count": 3,
   "metadata": {},
   "outputs": [],
   "source": [
    "from sklearn.metrics import mean_squared_error, r2_score, accuracy_score, median_absolute_error\n",
    "\n",
    "def calculate_performance(prediction, actual, scaler):\n",
    "    p = scaler.inverse_transform(prediction.reshape(-1,1))\n",
    "    a = scaler.inverse_transform(actual.reshape(-1,1))\n",
    "    mse = mean_squared_error(p, a)\n",
    "    err = np.sqrt(mse)\n",
    "    r2 = r2_score(a, p)\n",
    "    mae = median_absolute_error(p, a)\n",
    "    \n",
    "    return (mse, err, r2, mae)\n",
    "\n",
    "def print_performance(measure_tuple):\n",
    "    \n",
    "    mse = measure_tuple[0]\n",
    "    err = measure_tuple[1]\n",
    "    r2 = measure_tuple[2]\n",
    "    mae = measure_tuple[3]\n",
    "    \n",
    "    print(\"Mean squared error is {}\".format(str(mse)))\n",
    "    print(\"Positive mean error is {}\".format(str(err)))\n",
    "    print(\"Overall R² is {}\".format(str(r2)))\n",
    "    print(\"Median absolute error is {}\".format(str(mae)))"
   ]
  },
  {
   "cell_type": "markdown",
   "metadata": {},
   "source": [
    "# Train Model"
   ]
  },
  {
   "cell_type": "code",
   "execution_count": 4,
   "metadata": {},
   "outputs": [
    {
     "name": "stdout",
     "output_type": "stream",
     "text": [
      "<class 'list'>\n"
     ]
    }
   ],
   "source": [
    "# Liste der Performance-Vergleiche\n",
    "resultList = []\n",
    "print(type(resultList))"
   ]
  },
  {
   "cell_type": "markdown",
   "metadata": {},
   "source": [
    "## Lineare Regression"
   ]
  },
  {
   "cell_type": "code",
   "execution_count": 5,
   "metadata": {},
   "outputs": [
    {
     "data": {
      "text/plain": [
       "0.6576014402233354"
      ]
     },
     "execution_count": 5,
     "metadata": {},
     "output_type": "execute_result"
    }
   ],
   "source": [
    "# Die folgenden 3 Zeilen genügen um ein Model zu erstellen und zu trainieren\n",
    "from sklearn.linear_model import LinearRegression\n",
    "lin_reg = LinearRegression()\n",
    "lin_reg.fit(train_set, train_labels)\n",
    "lin_reg.score(test_set, test_labels)\n"
   ]
  },
  {
   "cell_type": "code",
   "execution_count": null,
   "metadata": {},
   "outputs": [],
   "source": []
  },
  {
   "cell_type": "code",
   "execution_count": 6,
   "metadata": {},
   "outputs": [
    {
     "name": "stdout",
     "output_type": "stream",
     "text": [
      "[['longitude', -54351.712905772016], ['latitude', -55446.55764966471], ['housing_median_age', 14484.399545536615], ['total_rooms', -3990.6352368220223], ['total_bedrooms', 9130.301566577078], ['population', -44812.96023385288], ['households', 44533.861471022545], ['median_income', 63511.40207034306], ['ocean_proximity', 14202.986271291938], ['income_cat', 6427.979250867132], ['rooms_per_household', 975.6353415798012], ['population_per_household', 10600.000703069374], ['ocean_proximity_<1H OCEAN', 3.973830549219377e+17], ['ocean_proximity_INLAND', 3.9738305492190163e+17], ['ocean_proximity_ISLAND', 3.9738305492207443e+17], ['ocean_proximity_NEAR BAY', 3.9738305492193325e+17], ['ocean_proximity_NEAR OCEAN', 3.973830549219421e+17]]\n"
     ]
    }
   ],
   "source": [
    "# FeatureImportance\n",
    "importance = lin_reg.coef_\n",
    "featureImportance = []\n",
    "for i in range(0, len(importance[0]),1):\n",
    "    feature = train_set.columns[i]\n",
    "    specificImportance = importance[0][i]\n",
    "    featureImportance.append([feature, specificImportance])\n",
    "    #print(feature, specificImportance)   \n",
    "print(featureImportance)"
   ]
  },
  {
   "cell_type": "code",
   "execution_count": 7,
   "metadata": {},
   "outputs": [
    {
     "name": "stdout",
     "output_type": "stream",
     "text": [
      "Predictions: [array([203840.]), array([326528.]), array([204544.]), array([58304.]), array([194240.])]\n",
      "Wahre Werte: ['median_house_value']\n"
     ]
    }
   ],
   "source": [
    "# test einer möglichen Prediction, das dient nur der Veranschaulichung\n",
    "some_data = train_set.iloc[:5]\n",
    "some_true_labels = train_labels.iloc[:5]\n",
    "some_predictions = lin_reg.predict(some_data)\n",
    "\n",
    "print(\"Predictions:\", list(some_predictions))\n",
    "print(\"Wahre Werte:\", list(some_true_labels))"
   ]
  },
  {
   "cell_type": "code",
   "execution_count": 8,
   "metadata": {},
   "outputs": [],
   "source": [
    "# Performance Measure OLS"
   ]
  },
  {
   "cell_type": "code",
   "execution_count": 9,
   "metadata": {},
   "outputs": [],
   "source": [
    "housing_predictions_ols = lin_reg.predict(test_set)"
   ]
  },
  {
   "cell_type": "code",
   "execution_count": 10,
   "metadata": {},
   "outputs": [
    {
     "name": "stdout",
     "output_type": "stream",
     "text": [
      "49483.498062015504\n"
     ]
    }
   ],
   "source": [
    "from sklearn.metrics import mean_absolute_error\n",
    "lin_mae = mean_absolute_error(test_labels, housing_predictions_ols)\n",
    "print(lin_mae)"
   ]
  },
  {
   "cell_type": "code",
   "execution_count": 11,
   "metadata": {},
   "outputs": [
    {
     "name": "stdout",
     "output_type": "stream",
     "text": [
      "4462015589.36531\n"
     ]
    }
   ],
   "source": [
    "## MSE\n",
    "from sklearn.metrics import mean_squared_error\n",
    "lin_mse = mean_squared_error(test_labels, housing_predictions_ols)\n",
    "print(lin_mse)"
   ]
  },
  {
   "cell_type": "code",
   "execution_count": 12,
   "metadata": {},
   "outputs": [
    {
     "name": "stdout",
     "output_type": "stream",
     "text": [
      "66798.32025856122\n"
     ]
    }
   ],
   "source": [
    "## RMSE\n",
    "lin_rmse = np.sqrt(lin_mse)\n",
    "print(lin_rmse)"
   ]
  },
  {
   "cell_type": "code",
   "execution_count": 13,
   "metadata": {},
   "outputs": [],
   "source": [
    "#listEnty = [\"OLS\", lin_mae, lin_mse, lin_rmse, featureImportance]\n",
    "listEnty = [\"OLS\", lin_mae, lin_mse, lin_rmse]\n",
    "resultList.append(listEnty)"
   ]
  },
  {
   "cell_type": "markdown",
   "metadata": {},
   "source": [
    "##  Polynomiale Regression"
   ]
  },
  {
   "cell_type": "code",
   "execution_count": 14,
   "metadata": {},
   "outputs": [
    {
     "name": "stdout",
     "output_type": "stream",
     "text": [
      "18\n"
     ]
    }
   ],
   "source": [
    "from sklearn.preprocessing import PolynomialFeatures\n",
    "\n",
    "polynomial_feature_extractor = PolynomialFeatures(degree=1)\n",
    "polynomial_feature_extractor.fit(train_set, train_labels)\n",
    "\n",
    "poly_train_data_X = polynomial_feature_extractor.transform(train_set)\n",
    "poly_test_data_X = polynomial_feature_extractor.transform(test_set)\n",
    "\n",
    "poly_regressor = LinearRegression()\n",
    "poly_regressor.fit(poly_train_data_X, train_labels)\n",
    "\n",
    "poly_predicted_y = poly_regressor.predict(poly_test_data_X)\n",
    "\n",
    "poly_mae = mean_absolute_error(test_labels, poly_predicted_y)\n",
    "poly_mse = mean_squared_error(test_labels, poly_predicted_y)\n",
    "poly_rmse = np.sqrt(poly_mse)\n",
    "\n",
    "#print(poly_mae)\n",
    "#print(poly_mse)\n",
    "#print(poly_rmse)\n",
    "\n",
    "importance = poly_regressor.coef_\n",
    "print(len(importance[0]))"
   ]
  },
  {
   "cell_type": "code",
   "execution_count": 15,
   "metadata": {},
   "outputs": [],
   "source": [
    "'''featureImportance = []\n",
    "for i in range(0, len(importance[0]),1):\n",
    "    feature = train_set.columns[i]\n",
    "    specificImportance = importance[0][i]\n",
    "    featureImportance.append([feature, specificImportance])\n",
    "    #print(feature, specificImportance)   \n",
    "print(featureImportance)\n",
    "'''\n",
    "\n",
    "listEnty = [\"Poly-Reg\", poly_mae, poly_mse, poly_rmse]\n",
    "resultList.append(listEnty)"
   ]
  },
  {
   "cell_type": "markdown",
   "metadata": {},
   "source": [
    "## Lasso Regression"
   ]
  },
  {
   "cell_type": "code",
   "execution_count": 16,
   "metadata": {},
   "outputs": [
    {
     "name": "stderr",
     "output_type": "stream",
     "text": [
      "C:\\Users\\1810837475\\Anaconda3\\lib\\site-packages\\sklearn\\linear_model\\_coordinate_descent.py:529: ConvergenceWarning: Objective did not converge. You might want to increase the number of iterations. Duality gap: 6340902440107.633, tolerance: 22103585513.765118\n",
      "  model = cd_fast.enet_coordinate_descent(\n"
     ]
    },
    {
     "data": {
      "text/plain": [
       "Lasso(alpha=0.01)"
      ]
     },
     "execution_count": 16,
     "metadata": {},
     "output_type": "execute_result"
    }
   ],
   "source": [
    "from sklearn.linear_model import Lasso\n",
    "\n",
    "# small alpha --> little restriction on coefficients\n",
    "lasso_regressor = Lasso(alpha=0.01, max_iter=1000)\n",
    "lasso_regressor.fit(train_set, train_labels)"
   ]
  },
  {
   "cell_type": "code",
   "execution_count": 17,
   "metadata": {},
   "outputs": [],
   "source": [
    "lasso_predicted_y = lasso_regressor.predict(test_set)"
   ]
  },
  {
   "cell_type": "code",
   "execution_count": 18,
   "metadata": {},
   "outputs": [],
   "source": [
    "lasso_mae = mean_absolute_error(test_labels, lasso_predicted_y)\n",
    "lasso_mse = mean_squared_error(test_labels, lasso_predicted_y)\n",
    "lasso_rmse = np.sqrt(lasso_mse)\n"
   ]
  },
  {
   "cell_type": "code",
   "execution_count": null,
   "metadata": {},
   "outputs": [],
   "source": [
    "\n"
   ]
  },
  {
   "cell_type": "code",
   "execution_count": 19,
   "metadata": {},
   "outputs": [],
   "source": [
    "# Feature Importance\n",
    "featureImportance = []\n",
    "importance = lasso_regressor.coef_\n",
    "for i in range(0, len(importance),1):\n",
    "    feature = train_set.columns[i]\n",
    "    specificImportance = importance[i]\n",
    "    featureImportance.append([feature, specificImportance])\n",
    "    #print(feature, specificImportance)   \n",
    "\n",
    "#listEnty = [\"Poly-Reg\", poly_mae, poly_mse, poly_rmse, featureImportance]\n",
    "listEnty = [\"Poly-Reg\", poly_mae, poly_mse, poly_rmse]\n",
    "resultList.append(listEnty)"
   ]
  },
  {
   "cell_type": "code",
   "execution_count": 20,
   "metadata": {},
   "outputs": [
    {
     "name": "stdout",
     "output_type": "stream",
     "text": [
      "49458.05475606995\n",
      "4461389041.578401\n",
      "66793.63024704078\n"
     ]
    }
   ],
   "source": [
    "print(lasso_mae)\n",
    "print(lasso_mse)\n",
    "print(lasso_rmse)\n",
    "\n",
    "listEnty = [\"Lasso-Reg\", lasso_mae, lasso_mse, lasso_rmse]\n",
    "resultList.append(listEnty)"
   ]
  },
  {
   "cell_type": "markdown",
   "metadata": {},
   "source": [
    "## Regression-Decision-Tree"
   ]
  },
  {
   "cell_type": "code",
   "execution_count": 21,
   "metadata": {},
   "outputs": [
    {
     "name": "stdout",
     "output_type": "stream",
     "text": [
      "75607.39583333333\n",
      "12277961800.540213\n",
      "110805.96464333593\n"
     ]
    }
   ],
   "source": [
    "from sklearn.tree import DecisionTreeRegressor\n",
    "\n",
    "tree_reg = DecisionTreeRegressor(random_state=42)\n",
    "tree_reg.fit(train_set, train_labels)\n",
    "\n",
    "housing_predictions_dtr = tree_reg.predict(test_set)\n",
    "#print(housing_predictions_dtr)\n",
    "#print(test_labels)\n",
    "\n",
    "tree_mae = mean_absolute_error(test_labels, housing_predictions_dtr)\n",
    "tree_mse = mean_squared_error(test_labels, housing_predictions_dtr)\n",
    "tree_rmse = np.sqrt(tree_mse)\n",
    "\n",
    "\n",
    "print(tree_mae)\n",
    "print(tree_mse)\n",
    "print(tree_rmse)"
   ]
  },
  {
   "cell_type": "code",
   "execution_count": null,
   "metadata": {},
   "outputs": [],
   "source": []
  },
  {
   "cell_type": "code",
   "execution_count": 22,
   "metadata": {},
   "outputs": [],
   "source": [
    "# Feature Importance\n",
    "featureImportance = []\n",
    "importance = tree_reg.feature_importances_\n",
    "#print(importance)\n",
    "#print(len(importance))\n",
    "for i in range(0, len(importance),1):\n",
    "    feature = train_set.columns[i]\n",
    "    specificImportance = importance[i]\n",
    "    featureImportance.append([feature, specificImportance])\n",
    "#listEnty = [\"RegTree\", tree_mae, tree_mse, tree_rmse, featureImportance]\n",
    "listEnty = [\"RegTree\", tree_mae, tree_mse, tree_rmse]\n",
    "resultList.append(listEnty)"
   ]
  },
  {
   "cell_type": "code",
   "execution_count": null,
   "metadata": {},
   "outputs": [],
   "source": []
  },
  {
   "cell_type": "markdown",
   "metadata": {},
   "source": [
    "## Random Forest"
   ]
  },
  {
   "cell_type": "code",
   "execution_count": 23,
   "metadata": {},
   "outputs": [
    {
     "name": "stderr",
     "output_type": "stream",
     "text": [
      "<ipython-input-23-6bfaa24301ce>:4: DataConversionWarning: A column-vector y was passed when a 1d array was expected. Please change the shape of y to (n_samples,), for example using ravel().\n",
      "  forest_reg.fit(train_set, train_labels)\n"
     ]
    },
    {
     "data": {
      "text/plain": [
       "RandomForestRegressor()"
      ]
     },
     "execution_count": 23,
     "metadata": {},
     "output_type": "execute_result"
    }
   ],
   "source": [
    "from sklearn.ensemble import RandomForestRegressor\n",
    "\n",
    "forest_reg = RandomForestRegressor(n_estimators=100)\n",
    "forest_reg.fit(train_set, train_labels)"
   ]
  },
  {
   "cell_type": "code",
   "execution_count": 24,
   "metadata": {},
   "outputs": [
    {
     "name": "stdout",
     "output_type": "stream",
     "text": [
      "56528.563829941864\n",
      "6167940977.204143\n",
      "78536.23989728655\n"
     ]
    }
   ],
   "source": [
    "forest_prediction = forest_reg.predict(test_set)\n",
    "\n",
    "RF_mae = mean_absolute_error(test_labels, forest_prediction)\n",
    "RF_mse = mean_squared_error(test_labels, forest_prediction)\n",
    "RF_rmse = np.sqrt(RF_mse)\n",
    "\n",
    "\n",
    "print(RF_mae)\n",
    "print(RF_mse)\n",
    "print(RF_rmse)"
   ]
  },
  {
   "cell_type": "code",
   "execution_count": 34,
   "metadata": {},
   "outputs": [],
   "source": [
    "# Feature Importance\n",
    "featureImportance = []\n",
    "importance = forest_reg.feature_importances_\n",
    "#print(importance)\n",
    "#print(len(importance))\n",
    "for i in range(0, len(importance),1):\n",
    "    feature = train_set.columns[i]\n",
    "    specificImportance = importance[i]\n",
    "    featureImportance.append([feature, specificImportance])\n",
    "#listEnty = [\"RegTree\", tree_mae, tree_mse, tree_rmse, featureImportance]\n",
    "listEnty = [\"RandForest\", RF_mae, RF_mse, RF_rmse]\n",
    "resultList.append(listEnty)"
   ]
  },
  {
   "cell_type": "markdown",
   "metadata": {},
   "source": [
    "# Suport Vector Regressor"
   ]
  },
  {
   "cell_type": "code",
   "execution_count": 47,
   "metadata": {},
   "outputs": [
    {
     "name": "stderr",
     "output_type": "stream",
     "text": [
      "C:\\Users\\1810837475\\Anaconda3\\lib\\site-packages\\sklearn\\utils\\validation.py:73: DataConversionWarning: A column-vector y was passed when a 1d array was expected. Please change the shape of y to (n_samples, ), for example using ravel().\n",
      "  return f(**kwargs)\n"
     ]
    },
    {
     "data": {
      "text/plain": [
       "SVC(kernel='linear')"
      ]
     },
     "execution_count": 47,
     "metadata": {},
     "output_type": "execute_result"
    }
   ],
   "source": [
    "from sklearn import svm\n",
    "svm = svm.SVC(kernel='linear')\n",
    "svm.fit(train_set, train_labels)"
   ]
  },
  {
   "cell_type": "code",
   "execution_count": 48,
   "metadata": {},
   "outputs": [
    {
     "name": "stdout",
     "output_type": "stream",
     "text": [
      "117353.23231589147\n",
      "27098628985.039486\n",
      "78536.23989728655\n"
     ]
    }
   ],
   "source": [
    "svm_prediction = svm.predict(test_set)\n",
    "\n",
    "svm_mae = mean_absolute_error(test_labels, svm_prediction)\n",
    "svm_mse = mean_squared_error(test_labels, svm_prediction)\n",
    "svm_rmse = np.sqrt(RF_mse)\n",
    "\n",
    "\n",
    "print(svm_mae)\n",
    "print(svm_mse)\n",
    "print(svm_rmse)\n",
    "\n",
    "importance = svm.coef_"
   ]
  },
  {
   "cell_type": "code",
   "execution_count": 49,
   "metadata": {},
   "outputs": [],
   "source": [
    "listEnty = [\"SVM\", svm_mae, svm_mse, svm_rmse]\n",
    "resultList.append(listEnty)"
   ]
  },
  {
   "cell_type": "markdown",
   "metadata": {},
   "source": [
    "# Print-Results"
   ]
  },
  {
   "cell_type": "code",
   "execution_count": 50,
   "metadata": {},
   "outputs": [
    {
     "name": "stdout",
     "output_type": "stream",
     "text": [
      "[['OLS', 49483.498062015504, 4462015589.36531, 66798.32025856122], ['Poly-Reg', 49458.03301952227, 4461384770.505101, 66793.59827487289], ['Poly-Reg', 49458.03301952227, 4461384770.505101, 66793.59827487289], ['Lasso-Reg', 49458.05475606995, 4461389041.578401, 66793.63024704078], ['RegTree', 75607.39583333333, 12277961800.540213, 110805.96464333593], ['RandForest', 56528.563829941864, 6167940977.204143, 78536.23989728655], ['RandForest', 56528.563829941864, 6167940977.204143, 78536.23989728655], ['RandForest', 56528.563829941864, 6167940977.204143, 78536.23989728655], ['SVM', 117353.23231589147, 27098628985.039486, 78536.23989728655]]\n",
      "9\n"
     ]
    }
   ],
   "source": [
    "print(resultList)\n",
    "print(len(resultList))"
   ]
  },
  {
   "cell_type": "code",
   "execution_count": 51,
   "metadata": {},
   "outputs": [
    {
     "name": "stdout",
     "output_type": "stream",
     "text": [
      "                      MAE           MSE           RMSE\n",
      "Alg-Name                                              \n",
      "OLS          49483.498062  4.462016e+09   66798.320259\n",
      "Poly-Reg     49458.033020  4.461385e+09   66793.598275\n",
      "Poly-Reg     49458.033020  4.461385e+09   66793.598275\n",
      "Lasso-Reg    49458.054756  4.461389e+09   66793.630247\n",
      "RegTree      75607.395833  1.227796e+10  110805.964643\n",
      "RandForest   56528.563830  6.167941e+09   78536.239897\n",
      "RandForest   56528.563830  6.167941e+09   78536.239897\n",
      "RandForest   56528.563830  6.167941e+09   78536.239897\n",
      "SVM         117353.232316  2.709863e+10   78536.239897\n"
     ]
    }
   ],
   "source": [
    "titles = [\"Alg-Name\", \"MAE\", \"MSE\", \"RMSE\"]\n",
    "performanceDF = pd.DataFrame(resultList, columns=titles)\n",
    "performanceDF = performanceDF.set_index('Alg-Name')\n",
    "print(performanceDF)"
   ]
  },
  {
   "cell_type": "code",
   "execution_count": 52,
   "metadata": {},
   "outputs": [
    {
     "data": {
      "text/plain": [
       "<matplotlib.legend.Legend at 0x1f4bf80a610>"
      ]
     },
     "execution_count": 52,
     "metadata": {},
     "output_type": "execute_result"
    },
    {
     "data": {
      "image/png": "[encoded data removed]",
      "text/plain": [
       "<Figure size 1080x720 with 3 Axes>"
      ]
     },
     "metadata": {
      "needs_background": "light"
     },
     "output_type": "display_data"
    }
   ],
   "source": [
    "axes = performanceDF.plot.bar(rot=0, subplots=True, figsize=(15,10))\n",
    "axes[1].legend(loc=2)"
   ]
  },
  {
   "cell_type": "markdown",
   "metadata": {},
   "source": [
    "## Ohrfeige-Funktion\n",
    "Mit der nachfolgenden Funktion werden auf einen Schlag alle Algorithmen ausgeführt und anschließend vergleichend geplottet.\n",
    "\n",
    "Mit dieser Funktion können \"gut\" folgende Punkte der [Short-List-Models-Checklist](19112020-ShortListModels) abgeabreitet werden:<br>\n",
    "- [Quick& Dirty Modeling](07112020200718-DataModelingQuickDirty)<br>\n",
    "- [Measuer-Performance](07112020200718-MeasurePerofrmance)<br>\n",
    "- [Feature Importance per Model](07112020200718-FeatureImportance)<br>\n",
    "- [Error-Analysis per Model](07112020200718-AnalyzingError)<br><br>\n",
    "\n",
    "somit bestehen \"nur noch\" für folgende Aufgaben ein Manueller Handlungsbredarf:<br>\n",
    "- [Feature-Selection](07112020200718-FeatureSelectionAndEngineering)<br>\n",
    "- [Repetition](07112020200718-Repetition)<br>\n",
    "- [Summary](07112020200718-SummaryPromissingModels)<br>\n"
   ]
  },
  {
   "cell_type": "code",
   "execution_count": 53,
   "metadata": {},
   "outputs": [],
   "source": [
    "from sklearn.metrics import mean_absolute_error\n",
    "from sklearn.tree import DecisionTreeRegressor\n",
    "from sklearn import svm"
   ]
  },
  {
   "cell_type": "code",
   "execution_count": 54,
   "metadata": {},
   "outputs": [
    {
     "name": "stderr",
     "output_type": "stream",
     "text": [
      "C:\\Users\\1810837475\\Anaconda3\\lib\\site-packages\\sklearn\\linear_model\\_coordinate_descent.py:529: ConvergenceWarning: Objective did not converge. You might want to increase the number of iterations. Duality gap: 6340902440107.633, tolerance: 22103585513.765118\n",
      "  model = cd_fast.enet_coordinate_descent(\n",
      "<ipython-input-54-5b712e516128>:20: DataConversionWarning: A column-vector y was passed when a 1d array was expected. Please change the shape of y to (n_samples,), for example using ravel().\n",
      "  reg.fit(trainData, trainLabels)\n",
      "C:\\Users\\1810837475\\Anaconda3\\lib\\site-packages\\sklearn\\utils\\validation.py:73: DataConversionWarning: A column-vector y was passed when a 1d array was expected. Please change the shape of y to (n_samples, ), for example using ravel().\n",
      "  return f(**kwargs)\n"
     ]
    },
    {
     "name": "stdout",
     "output_type": "stream",
     "text": [
      "        Alg-Name            MAE           MSE           RMSE  \\\n",
      "0            OLS   49483.498062  4.462016e+09   66798.320259   \n",
      "1          Lasso   49458.054756  4.461389e+09   66793.630247   \n",
      "2  Decision-Tree   75607.395833  1.227796e+10  110805.964643   \n",
      "3  Random-Forest   56745.107323  6.290655e+09   79313.646527   \n",
      "4     SVM-Linear  117353.232316  2.709863e+10  164616.612117   \n",
      "\n",
      "                                          importance  \\\n",
      "0  [[-54351.712905772016, -55446.55764966471, 144...   \n",
      "1  [-54137.139356899715, -55013.21442234788, 1439...   \n",
      "2  [0.06593142858806791, 0.05572574053447584, 0.0...   \n",
      "3  [0.0584072463130713, 0.05506386172811656, 0.04...   \n",
      "4  [[0.2783439229196297, 0.16175094244728438, -0....   \n",
      "\n",
      "                                         predictions  \n",
      "0  [[422400.0], [272448.0], [229056.0], [203968.0...  \n",
      "1  [422149.5469463768, 272063.34422259615, 228721...  \n",
      "2  [445400.0, 373700.0, 500001.0, 184200.0, 11630...  \n",
      "3  [482865.64, 421764.35, 295235.08, 192686.0, 14...  \n",
      "4  [500001.0, 500001.0, 500001.0, 112500.0, 11250...  \n"
     ]
    },
    {
     "data": {
      "image/png": "[encoded data removed]",
      "text/plain": [
       "<Figure size 1080x720 with 3 Axes>"
      ]
     },
     "metadata": {
      "needs_background": "light"
     },
     "output_type": "display_data"
    }
   ],
   "source": [
    "def ohrfeige(trainData, trainLabels, testData, testLabels, DataName):\n",
    "    resultlistOhrfeige = []\n",
    "    names = [\"OLS\",\n",
    "             \"Lasso\",\n",
    "             \"Decision-Tree\",\n",
    "             \"Random-Forest\",\n",
    "             \"SVM-Linear\"\n",
    "            ]   # \"Linear SVM\",\n",
    "\n",
    "    regressors = [\n",
    "         LinearRegression(),\n",
    "         Lasso(alpha=0.01, max_iter=1000),\n",
    "         DecisionTreeRegressor(random_state=42),\n",
    "         RandomForestRegressor(n_estimators=100),\n",
    "         svm.SVC(kernel='linear')\n",
    "         ]\n",
    "    \n",
    "    \n",
    "    for name, reg in zip(names, regressors):\n",
    "        reg.fit(trainData, trainLabels)\n",
    "        predictions_reg = reg.predict(testData)\n",
    "        mae = mean_absolute_error(testLabels, predictions_reg)\n",
    "        mse = mean_squared_error(testLabels, predictions_reg)\n",
    "        rmse = np.sqrt(mse)\n",
    "        try:\n",
    "            importance = reg.coef_\n",
    "        except:\n",
    "            importance = reg.feature_importances_\n",
    "        resultlistOhrfeige.append([name, mae, mse, rmse, importance, predictions_reg])\n",
    "        \n",
    "    \n",
    "    titles = [\"Alg-Name\", \"MAE\", \"MSE\", \"RMSE\", \"importance\", \"predictions\"]\n",
    "    ohrfeigePlotList = pd.DataFrame(resultlistOhrfeige, columns=titles)\n",
    "    \n",
    "    ohrfeigePlotList = ohrfeigePlotList[[\"Alg-Name\", \"MAE\", \"MSE\", \"RMSE\"]]\n",
    "    #ohrfeigePlotList = ohrfeigePlotList.drop(\"importance\", axis=1) # drop labels for training set\n",
    "    ohrfeigePlotList = ohrfeigePlotList.set_index('Alg-Name')\n",
    "    axes = ohrfeigePlotList.plot.bar(rot=0, subplots=True, figsize=(15,10), title=DataName)\n",
    "    axes[1].legend(loc=3)\n",
    "    \n",
    "    performanceDFOhrfeige = pd.DataFrame(resultlistOhrfeige, columns=titles)\n",
    "    return(performanceDFOhrfeige)\n",
    "\n",
    "# Bug in Numpy\n",
    "# https://stackoverflow.com/questions/63761366/numpy-linalg-linalgerror-svd-did-not-converge-in-linear-least-squares-on-first\n",
    "while True:\n",
    "    try: \n",
    "        results = ohrfeige(train_set, train_labels, test_set, test_labels, \"DataName\")\n",
    "        break\n",
    "    except:\n",
    "        continue\n",
    "        \n",
    "print(results)"
   ]
  },
  {
   "cell_type": "markdown",
   "metadata": {},
   "source": [
    "# [Fine-Tuning]()"
   ]
  },
  {
   "cell_type": "code",
   "execution_count": null,
   "metadata": {},
   "outputs": [],
   "source": []
  },
  {
   "cell_type": "code",
   "execution_count": null,
   "metadata": {},
   "outputs": [],
   "source": []
  }
 ],
 "metadata": {
  "kernelspec": {
   "display_name": "Python 3",
   "language": "python",
   "name": "python3"
  },
  "language_info": {
   "codemirror_mode": {
    "name": "ipython",
    "version": 3
   },
   "file_extension": ".py",
   "mimetype": "text/x-python",
   "name": "python",
   "nbconvert_exporter": "python",
   "pygments_lexer": "ipython3",
   "version": "3.8.3"
  }
 },
 "nbformat": 4,
 "nbformat_minor": 4
}
