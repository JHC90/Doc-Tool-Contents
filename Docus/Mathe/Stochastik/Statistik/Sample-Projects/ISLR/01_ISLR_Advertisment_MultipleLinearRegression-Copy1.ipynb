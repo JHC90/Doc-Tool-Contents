{
 "cells": [
  {
   "cell_type": "markdown",
   "metadata": {},
   "source": [
    "# Basics Lineare Regression\n",
    "das hier ist aus Kapitel 2\n",
    "http://faculty.marshall.usc.edu/gareth-james/ISL/ISLR%20Seventh%20Printing.pdf\n",
    "\n",
    "Basic-Understanding:\n",
    "* https://towardsdatascience.com/linear-regression-understanding-the-theory-7e53ac2831b5\n",
    "\n",
    "Ziel der MultiplenLinearenRegression ist einen Zusammenhang zwischen mehr als zwei Variablen aufzudecken. Wir starten mit zwei Variabeln\n",
    "\n",
    "\n",
    "Als Datensatz wird hier der Advertisment von ISLR verwendet. Der datensatz zeigt die Ausgaben von Tv, Radio und newspaper und wie diese sich auf sales auswirken. in diesem Notebook betrachte ich nur ein feature(tv), alle Feature zusammen werden in dem Notebook Multiple Regression betrachtet. "
   ]
  },
  {
   "cell_type": "markdown",
   "metadata": {},
   "source": [
    "## Daten downloaden"
   ]
  },
  {
   "cell_type": "code",
   "execution_count": 42,
   "metadata": {},
   "outputs": [
    {
     "name": "stdout",
     "output_type": "stream",
     "text": [
      "Download Starting...\n",
      "Download Completed!!!\n"
     ]
    }
   ],
   "source": [
    "import requests\n",
    "print('Download Starting...')\n",
    "url = 'http://faculty.marshall.usc.edu/gareth-james/ISL/Advertising.csv' # => Checken ob die Datei bereits vorliegt oder nicht\n",
    "r = requests.get(url)\n",
    "filename = \"./data/islrData_advertising.csv\"\n",
    "with open(filename,'wb') as output_file:\n",
    "    output_file.write(r.content)\n",
    "print('Download Completed!!!')\n",
    "\n"
   ]
  },
  {
   "cell_type": "code",
   "execution_count": 1,
   "metadata": {},
   "outputs": [
    {
     "name": "stdout",
     "output_type": "stream",
     "text": [
      "      TV  radio  newspaper  sales\n",
      "0  230.1   37.8       69.2   22.1\n",
      "1   44.5   39.3       45.1   10.4\n",
      "2   17.2   45.9       69.3    9.3\n",
      "3  151.5   41.3       58.5   18.5\n",
      "4  180.8   10.8       58.4   12.9\n"
     ]
    }
   ],
   "source": [
    "import pandas as pd\n",
    "df=pd.read_csv('./data/islrData_advertising.csv',delimiter=',',encoding='utf-8')\n",
    "df = df.drop(['Unnamed: 0'], axis=1)\n",
    "print(df.head())"
   ]
  },
  {
   "cell_type": "markdown",
   "metadata": {},
   "source": [
    "## Modelling"
   ]
  },
  {
   "cell_type": "code",
   "execution_count": 31,
   "metadata": {},
   "outputs": [],
   "source": [
    "Xs = df.drop(['sales'], axis=1)\n",
    "y = df.drop(['TV','radio','newspaper'], axis=1)"
   ]
  },
  {
   "cell_type": "code",
   "execution_count": 32,
   "metadata": {},
   "outputs": [],
   "source": [
    "from sklearn.linear_model import LinearRegression\n",
    "from sklearn.metrics import r2_score"
   ]
  },
  {
   "cell_type": "code",
   "execution_count": 33,
   "metadata": {},
   "outputs": [
    {
     "data": {
      "text/plain": [
       "LinearRegression(copy_X=True, fit_intercept=True, n_jobs=None, normalize=False)"
      ]
     },
     "execution_count": 33,
     "metadata": {},
     "output_type": "execute_result"
    }
   ],
   "source": [
    "reg = LinearRegression()\n",
    "reg.fit(Xs, y)"
   ]
  },
  {
   "cell_type": "code",
   "execution_count": 34,
   "metadata": {},
   "outputs": [
    {
     "name": "stdout",
     "output_type": "stream",
     "text": [
      "The linear model is: Y = 2.9389 + 0.045765*TV + 0.18853*radio + -0.0010375*newspaper\n"
     ]
    }
   ],
   "source": [
    "# Ausgabe des Multiplen Modelles\n",
    "print(\"The linear model is: Y = {:.5} + {:.5}*TV + {:.5}*radio + {:.5}*newspaper\".format(reg.intercept_[0], reg.coef_[0][0], reg.coef_[0][1], reg.coef_[0][2]))"
   ]
  },
  {
   "cell_type": "code",
   "execution_count": 35,
   "metadata": {},
   "outputs": [],
   "source": [
    "# Dieses Modell kann nicht visualisiert werden, da hier zu viele Dimensionen(>2Feature + 1 Target) dabei sind"
   ]
  },
  {
   "cell_type": "markdown",
   "metadata": {},
   "source": [
    "# Assessing Multiple Linear Regression via the Relevance"
   ]
  },
  {
   "cell_type": "code",
   "execution_count": 42,
   "metadata": {},
   "outputs": [],
   "source": [
    "import statsmodels.api as sm\n",
    "import numpy as np"
   ]
  },
  {
   "cell_type": "code",
   "execution_count": 43,
   "metadata": {},
   "outputs": [
    {
     "name": "stdout",
     "output_type": "stream",
     "text": [
      "                            OLS Regression Results                            \n",
      "==============================================================================\n",
      "Dep. Variable:                  sales   R-squared:                       0.897\n",
      "Model:                            OLS   Adj. R-squared:                  0.896\n",
      "Method:                 Least Squares   F-statistic:                     570.3\n",
      "Date:                Wed, 18 Mar 2020   Prob (F-statistic):           1.58e-96\n",
      "Time:                        20:44:51   Log-Likelihood:                -386.18\n",
      "No. Observations:                 200   AIC:                             780.4\n",
      "Df Residuals:                     196   BIC:                             793.6\n",
      "Df Model:                           3                                         \n",
      "Covariance Type:            nonrobust                                         \n",
      "==============================================================================\n",
      "                 coef    std err          t      P>|t|      [0.025      0.975]\n",
      "------------------------------------------------------------------------------\n",
      "const          2.9389      0.312      9.422      0.000       2.324       3.554\n",
      "x1             0.0458      0.001     32.809      0.000       0.043       0.049\n",
      "x2             0.1885      0.009     21.893      0.000       0.172       0.206\n",
      "x3            -0.0010      0.006     -0.177      0.860      -0.013       0.011\n",
      "==============================================================================\n",
      "Omnibus:                       60.414   Durbin-Watson:                   2.084\n",
      "Prob(Omnibus):                  0.000   Jarque-Bera (JB):              151.241\n",
      "Skew:                          -1.327   Prob(JB):                     1.44e-33\n",
      "Kurtosis:                       6.332   Cond. No.                         454.\n",
      "==============================================================================\n",
      "\n",
      "Warnings:\n",
      "[1] Standard Errors assume that the covariance matrix of the errors is correctly specified.\n"
     ]
    }
   ],
   "source": [
    "#!pip install statsmodel\n",
    "import statsmodels.api as sm\n",
    "X = np.column_stack((df['TV'], df['radio'], df['newspaper']))\n",
    "y = df['sales']\n",
    "X2 = sm.add_constant(X)\n",
    "est = sm.OLS(y, X2)\n",
    "est2 = est.fit()\n",
    "print(est2.summary())"
   ]
  },
  {
   "cell_type": "markdown",
   "metadata": {},
   "source": [
    "## p-Value\n",
    "Der P-Value gibt aufschluss wie sehr die Daten stark miteinander korrelieren. Der P-Wert soll so niedrig wie möglich sein. Je niedriger ein p-Wert desto eher erklärt dieses Feature das Target. Daumenregel: P-Wert eines feature soll kleiner als 0.05 sein. In diesem Beispiel sind TV & Radio siginifikant, newspaper hingegen nicht. Nehmen wir newspaper aus dem Modell werden wir einen etwas schlechterne r² erhalten, dafür besser predicten. "
   ]
  },
  {
   "cell_type": "markdown",
   "metadata": {},
   "source": [
    "## R² -Value\n",
    "Der R²(R-squared) ist bei  0.897, das bedeutet das ~90% der Variablität der von Sales somit erklärt wird. Das Modell ist somit um einiges besser als das Modell mit der Linearen Regression. Mehr Fearue ins Modell klopfen sorgt unweigerlich dafür dass ein besserer R² herauskommt. "
   ]
  },
  {
   "cell_type": "markdown",
   "metadata": {},
   "source": [
    "## F-Value\n",
    " Wenn ein hoher Zusammenhang besteht, dann ist der F-Wert höher als 1. der F-Wert hier ist 570.3, das besagt dass ein starker Zusammenhang zwischen den Ausgaben und den Sales ist. \n",
    " \n",
    "Kommen in anderen Modellen mehr Input Feature zusammen kann es vorkommen dass gewisse feature laut p-Value ins modell gehören, jedoch eigentlich gar nicht signifikant sind. Das verhindert dann der F-Value"
   ]
  }
 ],
 "metadata": {
  "kernelspec": {
   "display_name": "Python 3",
   "language": "python",
   "name": "python3"
  },
  "language_info": {
   "codemirror_mode": {
    "name": "ipython",
    "version": 3
   },
   "file_extension": ".py",
   "mimetype": "text/x-python",
   "name": "python",
   "nbconvert_exporter": "python",
   "pygments_lexer": "ipython3",
   "version": "3.6.9"
  },
  "toc": {
   "base_numbering": 1,
   "nav_menu": {},
   "number_sections": true,
   "sideBar": true,
   "skip_h1_title": false,
   "title_cell": "Table of Contents",
   "title_sidebar": "Contents",
   "toc_cell": false,
   "toc_position": {},
   "toc_section_display": true,
   "toc_window_display": true
  }
 },
 "nbformat": 4,
 "nbformat_minor": 2
}
